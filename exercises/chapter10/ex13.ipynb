{
 "cells": [
  {
   "cell_type": "code",
   "execution_count": 1,
   "metadata": {},
   "outputs": [],
   "source": [
    "import torch\n",
    "from ISLP.torch.imdb import load_tensor\n",
    "from ISLP.torch import (SimpleDataModule,\n",
    "                        SimpleModule,\n",
    "                        ErrorTracker,\n",
    "                        rec_num_workers)\n",
    "from torch import nn\n",
    "from torch.optim import RMSprop\n",
    "from torchinfo import summary\n",
    "from pytorch_lightning import Trainer\n",
    "from pytorch_lightning.loggers import CSVLogger"
   ]
  },
  {
   "cell_type": "code",
   "execution_count": 2,
   "metadata": {},
   "outputs": [
    {
     "name": "stderr",
     "output_type": "stream",
     "text": [
      "Seed set to 0\n"
     ]
    }
   ],
   "source": [
    "from pytorch_lightning import seed_everything\n",
    "seed_everything(0, workers=True)\n",
    "torch.use_deterministic_algorithms(True, warn_only=True)"
   ]
  },
  {
   "cell_type": "code",
   "execution_count": 3,
   "metadata": {},
   "outputs": [],
   "source": [
    "max_num_workers = rec_num_workers()"
   ]
  },
  {
   "cell_type": "code",
   "execution_count": 4,
   "metadata": {},
   "outputs": [],
   "source": [
    "(imdb_train, imdb_test) = load_tensor(root='../../data/IMDB')\n",
    "imdb_dm = SimpleDataModule(imdb_train, imdb_test, validation=2000,\n",
    "                           num_workers=max_num_workers, batch_size=512)"
   ]
  },
  {
   "cell_type": "code",
   "execution_count": 5,
   "metadata": {},
   "outputs": [],
   "source": [
    "class IMDBModel(nn.Module):\n",
    "\n",
    "    def __init__(self, input_size, n_units=32, dropout_p=0):\n",
    "        super(IMDBModel, self).__init__()\n",
    "        self.dense1 = nn.Linear(input_size, n_units)\n",
    "        self.activation = nn.ReLU()\n",
    "        self.dropout = nn.Dropout(dropout_p)\n",
    "        self.dense2 = nn.Linear(n_units, n_units)\n",
    "        self.output = nn.Linear(n_units, 1)\n",
    "\n",
    "    def forward(self, x):\n",
    "        val = x\n",
    "        for _map in [self.dense1, self.activation, self.dropout, self.dense2,\n",
    "                     self.activation, self.dropout, self.output]:\n",
    "            val = _map(val)\n",
    "        return torch.flatten(val)"
   ]
  },
  {
   "cell_type": "code",
   "execution_count": 6,
   "metadata": {},
   "outputs": [
    {
     "name": "stderr",
     "output_type": "stream",
     "text": [
      "GPU available: False, used: False\n",
      "TPU available: False, using: 0 TPU cores\n",
      "IPU available: False, using: 0 IPUs\n",
      "HPU available: False, using: 0 HPUs\n",
      "\n",
      "  | Name  | Type              | Params\n",
      "--------------------------------------------\n",
      "0 | model | IMDBModel         | 321 K \n",
      "1 | loss  | BCEWithLogitsLoss | 0     \n",
      "--------------------------------------------\n",
      "321 K     Trainable params\n",
      "0         Non-trainable params\n",
      "321 K     Total params\n",
      "1.285     Total estimated model params size (MB)\n"
     ]
    },
    {
     "name": "stdout",
     "output_type": "stream",
     "text": [
      "                                                                           \r"
     ]
    },
    {
     "name": "stderr",
     "output_type": "stream",
     "text": [
      "/home/niccolo/.local/lib/python3.10/site-packages/pytorch_lightning/loops/fit_loop.py:298: The number of training batches (45) is smaller than the logging interval Trainer(log_every_n_steps=50). Set a lower value for log_every_n_steps if you want to see logs for the training epoch.\n"
     ]
    },
    {
     "name": "stdout",
     "output_type": "stream",
     "text": [
      "Epoch 29: 100%|██████████| 45/45 [00:09<00:00,  4.87it/s, v_num=4]"
     ]
    },
    {
     "name": "stderr",
     "output_type": "stream",
     "text": [
      "`Trainer.fit` stopped: `max_epochs=30` reached.\n"
     ]
    },
    {
     "name": "stdout",
     "output_type": "stream",
     "text": [
      "Epoch 29: 100%|██████████| 45/45 [00:09<00:00,  4.83it/s, v_num=4]\n"
     ]
    },
    {
     "name": "stderr",
     "output_type": "stream",
     "text": [
      "GPU available: False, used: False\n",
      "TPU available: False, using: 0 TPU cores\n",
      "IPU available: False, using: 0 IPUs\n",
      "HPU available: False, using: 0 HPUs\n",
      "\n",
      "  | Name  | Type              | Params\n",
      "--------------------------------------------\n",
      "0 | model | IMDBModel         | 321 K \n",
      "1 | loss  | BCEWithLogitsLoss | 0     \n",
      "--------------------------------------------\n",
      "321 K     Trainable params\n",
      "0         Non-trainable params\n",
      "321 K     Total params\n",
      "1.285     Total estimated model params size (MB)\n"
     ]
    },
    {
     "name": "stdout",
     "output_type": "stream",
     "text": [
      "Epoch 29: 100%|██████████| 45/45 [00:06<00:00,  7.20it/s, v_num=2]         "
     ]
    },
    {
     "name": "stderr",
     "output_type": "stream",
     "text": [
      "`Trainer.fit` stopped: `max_epochs=30` reached.\n"
     ]
    },
    {
     "name": "stdout",
     "output_type": "stream",
     "text": [
      "Epoch 29: 100%|██████████| 45/45 [00:06<00:00,  7.14it/s, v_num=2]\n"
     ]
    },
    {
     "name": "stderr",
     "output_type": "stream",
     "text": [
      "GPU available: False, used: False\n",
      "TPU available: False, using: 0 TPU cores\n",
      "IPU available: False, using: 0 IPUs\n",
      "HPU available: False, using: 0 HPUs\n",
      "\n",
      "  | Name  | Type              | Params\n",
      "--------------------------------------------\n",
      "0 | model | IMDBModel         | 644 K \n",
      "1 | loss  | BCEWithLogitsLoss | 0     \n",
      "--------------------------------------------\n",
      "644 K     Trainable params\n",
      "0         Non-trainable params\n",
      "644 K     Total params\n",
      "2.578     Total estimated model params size (MB)\n"
     ]
    },
    {
     "name": "stdout",
     "output_type": "stream",
     "text": [
      "Epoch 29: 100%|██████████| 45/45 [00:07<00:00,  6.20it/s, v_num=2]         "
     ]
    },
    {
     "name": "stderr",
     "output_type": "stream",
     "text": [
      "`Trainer.fit` stopped: `max_epochs=30` reached.\n"
     ]
    },
    {
     "name": "stdout",
     "output_type": "stream",
     "text": [
      "Epoch 29: 100%|██████████| 45/45 [00:07<00:00,  6.15it/s, v_num=2]\n"
     ]
    },
    {
     "name": "stderr",
     "output_type": "stream",
     "text": [
      "GPU available: False, used: False\n",
      "TPU available: False, using: 0 TPU cores\n",
      "IPU available: False, using: 0 IPUs\n",
      "HPU available: False, using: 0 HPUs\n",
      "\n",
      "  | Name  | Type              | Params\n",
      "--------------------------------------------\n",
      "0 | model | IMDBModel         | 644 K \n",
      "1 | loss  | BCEWithLogitsLoss | 0     \n",
      "--------------------------------------------\n",
      "644 K     Trainable params\n",
      "0         Non-trainable params\n",
      "644 K     Total params\n",
      "2.578     Total estimated model params size (MB)\n"
     ]
    },
    {
     "name": "stdout",
     "output_type": "stream",
     "text": [
      "Epoch 29: 100%|██████████| 45/45 [00:07<00:00,  6.13it/s, v_num=2]         "
     ]
    },
    {
     "name": "stderr",
     "output_type": "stream",
     "text": [
      "`Trainer.fit` stopped: `max_epochs=30` reached.\n"
     ]
    },
    {
     "name": "stdout",
     "output_type": "stream",
     "text": [
      "Epoch 29: 100%|██████████| 45/45 [00:07<00:00,  6.07it/s, v_num=2]\n"
     ]
    }
   ],
   "source": [
    "n_hidden_units_list = [32, 64]\n",
    "dropout_prob_list = [0, 0.3]\n",
    "imdb_modules = []\n",
    "imdb_trainers = []\n",
    "\n",
    "for n_hidden_units in n_hidden_units_list:\n",
    "    for dropout_prob in dropout_prob_list:\n",
    "\n",
    "        imdb_model = IMDBModel(imdb_test.tensors[0].size()[1], n_hidden_units,\n",
    "                            dropout_prob)\n",
    "        summary(imdb_model, input_size=imdb_test.tensors[0].size(), col_names=\n",
    "                ['input_size', 'output_size', 'num_params'])\n",
    "\n",
    "        imdb_optimizer = RMSprop(imdb_model.parameters(), lr=0.001)\n",
    "        imdb_module = SimpleModule.binary_classification(imdb_model,\n",
    "                                                         optimizer=\n",
    "                                                         imdb_optimizer)\n",
    "        imdb_modules.append(imdb_module)\n",
    "\n",
    "        imdb_logger = CSVLogger('log', \n",
    "                                name=f'IMDB_{n_hidden_units}_{dropout_prob}')\n",
    "        imdb_trainer = Trainer(deterministic=True, max_epochs=30,\n",
    "                               logger=imdb_logger, callbacks=[ErrorTracker()])\n",
    "        imdb_trainer.fit(imdb_module, datamodule=imdb_dm)\n",
    "        imdb_trainers.append(imdb_trainer)"
   ]
  },
  {
   "cell_type": "code",
   "execution_count": 7,
   "metadata": {},
   "outputs": [
    {
     "name": "stdout",
     "output_type": "stream",
     "text": [
      "Testing DataLoader 0: 100%|██████████| 49/49 [00:04<00:00, 12.23it/s]\n",
      "────────────────────────────────────────────────────────────────────────────────────────────────────────────────────────\n",
      "       Test metric             DataLoader 0\n",
      "────────────────────────────────────────────────────────────────────────────────────────────────────────────────────────\n",
      "      test_accuracy         0.8539999723434448\n",
      "        test_loss           1.2648829221725464\n",
      "────────────────────────────────────────────────────────────────────────────────────────────────────────────────────────\n",
      "Testing DataLoader 0: 100%|██████████| 49/49 [00:03<00:00, 14.45it/s]\n",
      "────────────────────────────────────────────────────────────────────────────────────────────────────────────────────────\n",
      "       Test metric             DataLoader 0\n",
      "────────────────────────────────────────────────────────────────────────────────────────────────────────────────────────\n",
      "      test_accuracy         0.8621600270271301\n",
      "        test_loss           1.1731061935424805\n",
      "────────────────────────────────────────────────────────────────────────────────────────────────────────────────────────\n",
      "Testing DataLoader 0: 100%|██████████| 49/49 [00:04<00:00, 12.01it/s]\n",
      "────────────────────────────────────────────────────────────────────────────────────────────────────────────────────────\n",
      "       Test metric             DataLoader 0\n",
      "────────────────────────────────────────────────────────────────────────────────────────────────────────────────────────\n",
      "      test_accuracy         0.8611999750137329\n",
      "        test_loss           1.4462296962738037\n",
      "────────────────────────────────────────────────────────────────────────────────────────────────────────────────────────\n",
      "Testing DataLoader 0: 100%|██████████| 49/49 [00:04<00:00, 11.61it/s]\n",
      "────────────────────────────────────────────────────────────────────────────────────────────────────────────────────────\n",
      "       Test metric             DataLoader 0\n",
      "────────────────────────────────────────────────────────────────────────────────────────────────────────────────────────\n",
      "      test_accuracy         0.8676400184631348\n",
      "        test_loss           1.0793209075927734\n",
      "────────────────────────────────────────────────────────────────────────────────────────────────────────────────────────\n"
     ]
    }
   ],
   "source": [
    "model_n = 0\n",
    "test_results_list = []\n",
    "\n",
    "for n_hidden_units in n_hidden_units_list:\n",
    "    for dropout_prob in dropout_prob_list:\n",
    "\n",
    "        test_results_list.append(imdb_trainers[model_n].test(\n",
    "            imdb_modules[model_n], datamodule=imdb_dm))\n",
    "        \n",
    "        model_n += 1"
   ]
  },
  {
   "cell_type": "code",
   "execution_count": 8,
   "metadata": {},
   "outputs": [
    {
     "name": "stdout",
     "output_type": "stream",
     "text": [
      "Model #1: # hidden units per layer: 32, dropout probability: 0\n",
      "\ttest loss: 1.265, test accuracy: 0.854\n",
      "Model #2: # hidden units per layer: 32, dropout probability: 0.3\n",
      "\ttest loss: 1.173, test accuracy: 0.862\n",
      "Model #3: # hidden units per layer: 64, dropout probability: 0\n",
      "\ttest loss: 1.446, test accuracy: 0.861\n",
      "Model #4: # hidden units per layer: 64, dropout probability: 0.3\n",
      "\ttest loss: 1.079, test accuracy: 0.868\n"
     ]
    }
   ],
   "source": [
    "model_n = 0\n",
    "\n",
    "for n_hidden_units in n_hidden_units_list:\n",
    "    for dropout_prob in dropout_prob_list:\n",
    "\n",
    "      print(f\"Model #{model_n+1}: # hidden units per layer: {n_hidden_units}, \"\n",
    "            f\"dropout probability: {dropout_prob}\")\n",
    "      print(\"\\ttest loss: \"\n",
    "            f\"{round(test_results_list[model_n][0]['test_loss'], 3)}, \"\n",
    "            \"test accuracy: \"\n",
    "            f\"{round(test_results_list[model_n][0]['test_accuracy'], 3)}\")\n",
    "\n",
    "      model_n += 1"
   ]
  }
 ],
 "metadata": {
  "kernelspec": {
   "display_name": "Python 3",
   "language": "python",
   "name": "python3"
  },
  "language_info": {
   "codemirror_mode": {
    "name": "ipython",
    "version": 3
   },
   "file_extension": ".py",
   "mimetype": "text/x-python",
   "name": "python",
   "nbconvert_exporter": "python",
   "pygments_lexer": "ipython3",
   "version": "3.10.12"
  }
 },
 "nbformat": 4,
 "nbformat_minor": 2
}

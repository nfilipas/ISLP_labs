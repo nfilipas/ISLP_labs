{
  "cells": [
    {
      "cell_type": "markdown",
      "id": "54eb061f",
      "metadata": {
        "id": "54eb061f"
      },
      "source": [
        "\n",
        "# Chapter 10\n",
        "\n",
        "# Lab: Deep Learning\n",
        "In this section we  demonstrate how to fit the examples discussed\n",
        "in the text. We use the `Python`  `torch` package, along with the\n",
        "`pytorch_lightning` package which provides utilities to simplify\n",
        "fitting and evaluating models.  This code can be impressively fast\n",
        "with certain  special processors,  such as Apple’s new M1 chip. The package is well-structured, flexible, and will feel comfortable\n",
        "to `Python`  users. A good companion is the site\n",
        "[pytorch.org/tutorials](https://pytorch.org/tutorials/beginner/basics/intro.html).\n",
        "Much of our code is adapted from there, as well as the `pytorch_lightning` documentation. {The precise URLs at the time of writing are <https://pytorch.org/tutorials/beginner/basics/intro.html> and <https://pytorch-lightning.readthedocs.io/en/latest/>.}\n",
        "\n",
        "We start with several standard imports that we have  seen before."
      ]
    },
    {
      "cell_type": "code",
      "execution_count": 49,
      "id": "01aad02e",
      "metadata": {
        "colab": {
          "base_uri": "https://localhost:8080/",
          "height": 385
        },
        "id": "01aad02e",
        "lines_to_next_cell": 2,
        "outputId": "a7f022aa-e809-4b65-ca26-44fc69a03f87"
      },
      "outputs": [],
      "source": [
        "import numpy as np, pandas as pd\n",
        "from matplotlib.pyplot import subplots\n",
        "from sklearn.linear_model import \\\n",
        "     (LinearRegression,\n",
        "      LogisticRegression,\n",
        "      Lasso)\n",
        "from sklearn.preprocessing import StandardScaler\n",
        "from sklearn.model_selection import KFold\n",
        "from sklearn.pipeline import Pipeline\n",
        "from ISLP import load_data\n",
        "from ISLP.models import ModelSpec as MS\n",
        "from sklearn.model_selection import \\\n",
        "     (train_test_split,\n",
        "      GridSearchCV)"
      ]
    },
    {
      "cell_type": "markdown",
      "id": "e6e091b1",
      "metadata": {
        "id": "e6e091b1"
      },
      "source": [
        "### Torch-Specific Imports\n",
        "There are a number of imports for `torch`. (These are not\n",
        "included with `ISLP`, so must be installed separately.)\n",
        "First we import the main library\n",
        "and essential tools used to specify sequentially-structured networks."
      ]
    },
    {
      "cell_type": "code",
      "execution_count": 50,
      "id": "267afcbc",
      "metadata": {
        "id": "267afcbc"
      },
      "outputs": [],
      "source": [
        "import torch\n",
        "from torch import nn\n",
        "from torch.optim import RMSprop\n",
        "from torch.utils.data import TensorDataset\n"
      ]
    },
    {
      "cell_type": "markdown",
      "id": "4bdedfbb",
      "metadata": {
        "id": "4bdedfbb"
      },
      "source": [
        "There are several other helper packages for `torch`. For instance,\n",
        "the `torchmetrics` package has utilities to compute\n",
        "various metrics to evaluate performance when fitting\n",
        "a model. The `torchinfo` package provides a useful\n",
        "summary of the layers of a model. We use the `read_image()`\n",
        "function when loading test images in Section 10.9.4."
      ]
    },
    {
      "cell_type": "code",
      "execution_count": 51,
      "id": "5548bab1",
      "metadata": {
        "id": "5548bab1"
      },
      "outputs": [],
      "source": [
        "from torchmetrics import (MeanAbsoluteError,\n",
        "                          R2Score)\n",
        "from torchinfo import summary\n"
      ]
    },
    {
      "cell_type": "markdown",
      "id": "3f1accea",
      "metadata": {
        "id": "3f1accea"
      },
      "source": [
        "The package `pytorch_lightning` is a somewhat higher-level\n",
        "interface to `torch` that simplifies the specification and\n",
        "fitting of\n",
        "models by reducing the amount of boilerplate code needed\n",
        "(compared to using `torch` alone)."
      ]
    },
    {
      "cell_type": "code",
      "execution_count": 52,
      "id": "372edabb",
      "metadata": {
        "id": "372edabb"
      },
      "outputs": [],
      "source": [
        "from pytorch_lightning import Trainer\n",
        "from pytorch_lightning.loggers import CSVLogger\n"
      ]
    },
    {
      "cell_type": "markdown",
      "id": "0b71a03f",
      "metadata": {
        "id": "0b71a03f"
      },
      "source": [
        "In order to reproduce results we use `seed_everything()`. We will also instruct `torch` to use deterministic algorithms\n",
        "where possible."
      ]
    },
    {
      "cell_type": "code",
      "execution_count": 53,
      "id": "8b905254",
      "metadata": {
        "id": "8b905254"
      },
      "outputs": [
        {
          "name": "stderr",
          "output_type": "stream",
          "text": [
            "Seed set to 0\n"
          ]
        }
      ],
      "source": [
        "from pytorch_lightning import seed_everything\n",
        "seed_everything(0, workers=True)\n",
        "torch.use_deterministic_algorithms(True, warn_only=True)\n"
      ]
    },
    {
      "cell_type": "markdown",
      "id": "d79b33ad",
      "metadata": {
        "id": "d79b33ad"
      },
      "source": [
        "We will use several datasets shipped with `torchvision` for our\n",
        "examples: a pretrained network for image classification,\n",
        "as well as some transforms used for preprocessing."
      ]
    },
    {
      "cell_type": "code",
      "execution_count": 54,
      "id": "25b146a6",
      "metadata": {
        "id": "25b146a6",
        "lines_to_next_cell": 0
      },
      "outputs": [],
      "source": [
        "from torchvision.io import read_image\n",
        "from torchvision.datasets import MNIST, CIFAR100\n",
        "from torchvision.models import (resnet50,\n",
        "                                ResNet50_Weights)\n",
        "from torchvision.transforms import (Resize,\n",
        "                                    Normalize,\n",
        "                                    CenterCrop,\n",
        "                                    ToTensor)"
      ]
    },
    {
      "cell_type": "markdown",
      "id": "c8fd4a91",
      "metadata": {
        "id": "c8fd4a91"
      },
      "source": [
        "We have provided a few utilities in `ISLP` specifically for this lab.\n",
        "The `SimpleDataModule` and `SimpleModule` are simple\n",
        "versions of objects used in `pytorch_lightning`, the\n",
        "high-level module for fitting `torch` models. Although more advanced\n",
        "uses such as computing on graphical processing units (GPUs) and parallel data processing\n",
        "are possible in this module, we will not be focusing much on these\n",
        "in this lab. The `ErrorTracker` handles\n",
        "collections of targets and predictions over each mini-batch\n",
        "in the validation or test stage, allowing computation\n",
        "of the metric over the entire validation or test data set."
      ]
    },
    {
      "cell_type": "code",
      "execution_count": 55,
      "id": "5e669f64",
      "metadata": {
        "id": "5e669f64"
      },
      "outputs": [],
      "source": [
        "from ISLP.torch import (SimpleDataModule,\n",
        "                        SimpleModule,\n",
        "                        ErrorTracker,\n",
        "                        rec_num_workers)\n"
      ]
    },
    {
      "cell_type": "markdown",
      "id": "ae8babe9",
      "metadata": {
        "id": "ae8babe9"
      },
      "source": [
        "In addition we have included some helper\n",
        "functions to load the\n",
        "`IMDb` database, as well as a lookup that maps integers\n",
        "to particular keys in the database. We’ve included\n",
        "a slightly modified copy of the preprocessed\n",
        "`IMDb` data from `keras`, a separate package\n",
        "for fitting deep learning models. This saves us significant\n",
        "preprocessing and allows us to focus on specifying and fitting\n",
        "the models themselves."
      ]
    },
    {
      "cell_type": "code",
      "execution_count": 56,
      "id": "84439147",
      "metadata": {
        "id": "84439147"
      },
      "outputs": [],
      "source": [
        "from ISLP.torch.imdb import (load_lookup,\n",
        "                             load_tensor,\n",
        "                             load_sparse,\n",
        "                             load_sequential)\n"
      ]
    },
    {
      "cell_type": "markdown",
      "id": "ae3546d2",
      "metadata": {
        "id": "ae3546d2"
      },
      "source": [
        "Finally, we introduce some utility imports  not directly related to\n",
        "`torch`.\n",
        "The `glob()` function from the `glob` module is used\n",
        "to find all files matching wildcard characters, which we will use\n",
        "in our example applying the `ResNet50` model\n",
        "to some of our own images.\n",
        "The `json` module will be used to load\n",
        "a JSON file for looking up classes to identify the labels of the\n",
        "pictures in the `ResNet50` example."
      ]
    },
    {
      "cell_type": "code",
      "execution_count": 57,
      "id": "53732c4a",
      "metadata": {
        "id": "53732c4a",
        "lines_to_next_cell": 2
      },
      "outputs": [],
      "source": [
        "from glob import glob\n",
        "import json\n"
      ]
    },
    {
      "cell_type": "markdown",
      "id": "b2476aa9",
      "metadata": {
        "id": "b2476aa9"
      },
      "source": [
        "## Single Layer Network on Hitters Data\n",
        "We start by fitting the models in Section 10.6 on the `Hitters` data."
      ]
    },
    {
      "cell_type": "code",
      "execution_count": 58,
      "id": "34e04cda",
      "metadata": {
        "id": "34e04cda",
        "lines_to_next_cell": 0
      },
      "outputs": [],
      "source": [
        "Hitters = load_data('Hitters').dropna()\n",
        "n = Hitters.shape[0]"
      ]
    },
    {
      "cell_type": "markdown",
      "id": "7efd3fd8",
      "metadata": {
        "id": "7efd3fd8"
      },
      "source": [
        " We will fit two linear models (least squares  and lasso) and  compare their performance\n",
        "to that of a neural network. For this comparison we will use mean absolute error on a validation dataset.\n",
        "\\begin{equation*}\n",
        "\\begin{split}\n",
        "\\mbox{MAE}(y,\\hat{y}) = \\frac{1}{n} \\sum_{i=1}^n |y_i-\\hat{y}_i|.\n",
        "\\end{split}\n",
        "\\end{equation*}\n",
        "We set up the model matrix and the response."
      ]
    },
    {
      "cell_type": "code",
      "execution_count": 59,
      "id": "7453a041",
      "metadata": {
        "id": "7453a041",
        "lines_to_next_cell": 0
      },
      "outputs": [],
      "source": [
        "model = MS(Hitters.columns.drop('Salary'), intercept=False)\n",
        "X = model.fit_transform(Hitters).to_numpy()\n",
        "Y = Hitters['Salary'].to_numpy()"
      ]
    },
    {
      "cell_type": "markdown",
      "id": "6d7d8a37",
      "metadata": {
        "id": "6d7d8a37"
      },
      "source": [
        "The `to_numpy()`  method above converts `pandas`\n",
        "data frames or series to `numpy` arrays.\n",
        "We do this because we will need to  use `sklearn` to fit the lasso model,\n",
        "and it requires this conversion.\n",
        "We also use  a linear regression method from `sklearn`, rather than the method\n",
        "in Chapter~3 from `statsmodels`, to facilitate the comparisons."
      ]
    },
    {
      "cell_type": "markdown",
      "id": "4625dfc4",
      "metadata": {
        "id": "4625dfc4"
      },
      "source": [
        "We now split the data into test and training, fixing the random\n",
        "state used by `sklearn` to do the split."
      ]
    },
    {
      "cell_type": "code",
      "execution_count": 60,
      "id": "8debfcad",
      "metadata": {
        "id": "8debfcad"
      },
      "outputs": [],
      "source": [
        "(X_train,\n",
        " X_test,\n",
        " Y_train,\n",
        " Y_test) = train_test_split(X,\n",
        "                            Y,\n",
        "                            test_size=1/3,\n",
        "                            random_state=1)"
      ]
    },
    {
      "cell_type": "markdown",
      "id": "bdbfa45a",
      "metadata": {
        "id": "bdbfa45a"
      },
      "source": [
        "### Linear Models\n",
        "We fit the linear model and evaluate the test error directly."
      ]
    },
    {
      "cell_type": "code",
      "execution_count": 61,
      "id": "a52a6652",
      "metadata": {
        "id": "a52a6652"
      },
      "outputs": [
        {
          "data": {
            "text/plain": [
              "259.7152883314631"
            ]
          },
          "execution_count": 61,
          "metadata": {},
          "output_type": "execute_result"
        }
      ],
      "source": [
        "hit_lm = LinearRegression().fit(X_train, Y_train)\n",
        "Yhat_test = hit_lm.predict(X_test)\n",
        "np.abs(Yhat_test - Y_test).mean()"
      ]
    },
    {
      "cell_type": "markdown",
      "id": "f263d822",
      "metadata": {
        "id": "f263d822"
      },
      "source": [
        "Next we fit the lasso using `sklearn`. We are using\n",
        "mean absolute error to select and evaluate a model, rather than mean squared error.\n",
        "The specialized solver we used in Section 6.5.2 uses only mean squared error. So here, with a bit more work,  we create a cross-validation grid and perform the cross-validation directly.  \n",
        "\n",
        "We encode a pipeline with two steps: we first normalize the features using a `StandardScaler()` transform,\n",
        "and then fit the lasso without further normalization."
      ]
    },
    {
      "cell_type": "code",
      "execution_count": 62,
      "id": "8e4afcae",
      "metadata": {
        "id": "8e4afcae"
      },
      "outputs": [],
      "source": [
        "scaler = StandardScaler(with_mean=True, with_std=True)\n",
        "lasso = Lasso(warm_start=True, max_iter=30000)\n",
        "standard_lasso = Pipeline(steps=[('scaler', scaler),\n",
        "                                 ('lasso', lasso)])"
      ]
    },
    {
      "cell_type": "markdown",
      "id": "629b1cc3",
      "metadata": {
        "id": "629b1cc3"
      },
      "source": [
        "We need to create a grid of values for $\\lambda$. As is common practice,\n",
        "we choose a grid of 100 values of $\\lambda$, uniform on the log scale from `lam_max` down to  `0.01*lam_max`. Here  `lam_max` is the smallest value of\n",
        "$\\lambda$ with an  all-zero solution. This value equals the largest absolute inner-product between any predictor and the (centered) response. {The derivation of this result is beyond the scope of this book.}"
      ]
    },
    {
      "cell_type": "code",
      "execution_count": 63,
      "id": "4073cd77",
      "metadata": {
        "id": "4073cd77",
        "lines_to_next_cell": 0
      },
      "outputs": [],
      "source": [
        "X_s = scaler.fit_transform(X_train)\n",
        "n = X_s.shape[0]\n",
        "lam_max = np.fabs(X_s.T.dot(Y_train - Y_train.mean())).max() / n\n",
        "param_grid = {'lasso__alpha': np.exp(np.linspace(0, np.log(0.01), 100))\n",
        "             * lam_max}"
      ]
    },
    {
      "cell_type": "markdown",
      "id": "45126760",
      "metadata": {
        "id": "45126760"
      },
      "source": [
        "Note that we had to transform the data first, since the scale of the variables impacts the choice of $\\lambda$.\n",
        "We now perform cross-validation using this sequence of $\\lambda$ values."
      ]
    },
    {
      "cell_type": "code",
      "execution_count": 64,
      "id": "9cc45ddc",
      "metadata": {
        "id": "9cc45ddc"
      },
      "outputs": [
        {
          "data": {
            "text/html": [
              "<style>#sk-container-id-2 {\n",
              "  /* Definition of color scheme common for light and dark mode */\n",
              "  --sklearn-color-text: black;\n",
              "  --sklearn-color-line: gray;\n",
              "  /* Definition of color scheme for unfitted estimators */\n",
              "  --sklearn-color-unfitted-level-0: #fff5e6;\n",
              "  --sklearn-color-unfitted-level-1: #f6e4d2;\n",
              "  --sklearn-color-unfitted-level-2: #ffe0b3;\n",
              "  --sklearn-color-unfitted-level-3: chocolate;\n",
              "  /* Definition of color scheme for fitted estimators */\n",
              "  --sklearn-color-fitted-level-0: #f0f8ff;\n",
              "  --sklearn-color-fitted-level-1: #d4ebff;\n",
              "  --sklearn-color-fitted-level-2: #b3dbfd;\n",
              "  --sklearn-color-fitted-level-3: cornflowerblue;\n",
              "\n",
              "  /* Specific color for light theme */\n",
              "  --sklearn-color-text-on-default-background: var(--sg-text-color, var(--theme-code-foreground, var(--jp-content-font-color1, black)));\n",
              "  --sklearn-color-background: var(--sg-background-color, var(--theme-background, var(--jp-layout-color0, white)));\n",
              "  --sklearn-color-border-box: var(--sg-text-color, var(--theme-code-foreground, var(--jp-content-font-color1, black)));\n",
              "  --sklearn-color-icon: #696969;\n",
              "\n",
              "  @media (prefers-color-scheme: dark) {\n",
              "    /* Redefinition of color scheme for dark theme */\n",
              "    --sklearn-color-text-on-default-background: var(--sg-text-color, var(--theme-code-foreground, var(--jp-content-font-color1, white)));\n",
              "    --sklearn-color-background: var(--sg-background-color, var(--theme-background, var(--jp-layout-color0, #111)));\n",
              "    --sklearn-color-border-box: var(--sg-text-color, var(--theme-code-foreground, var(--jp-content-font-color1, white)));\n",
              "    --sklearn-color-icon: #878787;\n",
              "  }\n",
              "}\n",
              "\n",
              "#sk-container-id-2 {\n",
              "  color: var(--sklearn-color-text);\n",
              "}\n",
              "\n",
              "#sk-container-id-2 pre {\n",
              "  padding: 0;\n",
              "}\n",
              "\n",
              "#sk-container-id-2 input.sk-hidden--visually {\n",
              "  border: 0;\n",
              "  clip: rect(1px 1px 1px 1px);\n",
              "  clip: rect(1px, 1px, 1px, 1px);\n",
              "  height: 1px;\n",
              "  margin: -1px;\n",
              "  overflow: hidden;\n",
              "  padding: 0;\n",
              "  position: absolute;\n",
              "  width: 1px;\n",
              "}\n",
              "\n",
              "#sk-container-id-2 div.sk-dashed-wrapped {\n",
              "  border: 1px dashed var(--sklearn-color-line);\n",
              "  margin: 0 0.4em 0.5em 0.4em;\n",
              "  box-sizing: border-box;\n",
              "  padding-bottom: 0.4em;\n",
              "  background-color: var(--sklearn-color-background);\n",
              "}\n",
              "\n",
              "#sk-container-id-2 div.sk-container {\n",
              "  /* jupyter's `normalize.less` sets `[hidden] { display: none; }`\n",
              "     but bootstrap.min.css set `[hidden] { display: none !important; }`\n",
              "     so we also need the `!important` here to be able to override the\n",
              "     default hidden behavior on the sphinx rendered scikit-learn.org.\n",
              "     See: https://github.com/scikit-learn/scikit-learn/issues/21755 */\n",
              "  display: inline-block !important;\n",
              "  position: relative;\n",
              "}\n",
              "\n",
              "#sk-container-id-2 div.sk-text-repr-fallback {\n",
              "  display: none;\n",
              "}\n",
              "\n",
              "div.sk-parallel-item,\n",
              "div.sk-serial,\n",
              "div.sk-item {\n",
              "  /* draw centered vertical line to link estimators */\n",
              "  background-image: linear-gradient(var(--sklearn-color-text-on-default-background), var(--sklearn-color-text-on-default-background));\n",
              "  background-size: 2px 100%;\n",
              "  background-repeat: no-repeat;\n",
              "  background-position: center center;\n",
              "}\n",
              "\n",
              "/* Parallel-specific style estimator block */\n",
              "\n",
              "#sk-container-id-2 div.sk-parallel-item::after {\n",
              "  content: \"\";\n",
              "  width: 100%;\n",
              "  border-bottom: 2px solid var(--sklearn-color-text-on-default-background);\n",
              "  flex-grow: 1;\n",
              "}\n",
              "\n",
              "#sk-container-id-2 div.sk-parallel {\n",
              "  display: flex;\n",
              "  align-items: stretch;\n",
              "  justify-content: center;\n",
              "  background-color: var(--sklearn-color-background);\n",
              "  position: relative;\n",
              "}\n",
              "\n",
              "#sk-container-id-2 div.sk-parallel-item {\n",
              "  display: flex;\n",
              "  flex-direction: column;\n",
              "}\n",
              "\n",
              "#sk-container-id-2 div.sk-parallel-item:first-child::after {\n",
              "  align-self: flex-end;\n",
              "  width: 50%;\n",
              "}\n",
              "\n",
              "#sk-container-id-2 div.sk-parallel-item:last-child::after {\n",
              "  align-self: flex-start;\n",
              "  width: 50%;\n",
              "}\n",
              "\n",
              "#sk-container-id-2 div.sk-parallel-item:only-child::after {\n",
              "  width: 0;\n",
              "}\n",
              "\n",
              "/* Serial-specific style estimator block */\n",
              "\n",
              "#sk-container-id-2 div.sk-serial {\n",
              "  display: flex;\n",
              "  flex-direction: column;\n",
              "  align-items: center;\n",
              "  background-color: var(--sklearn-color-background);\n",
              "  padding-right: 1em;\n",
              "  padding-left: 1em;\n",
              "}\n",
              "\n",
              "\n",
              "/* Toggleable style: style used for estimator/Pipeline/ColumnTransformer box that is\n",
              "clickable and can be expanded/collapsed.\n",
              "- Pipeline and ColumnTransformer use this feature and define the default style\n",
              "- Estimators will overwrite some part of the style using the `sk-estimator` class\n",
              "*/\n",
              "\n",
              "/* Pipeline and ColumnTransformer style (default) */\n",
              "\n",
              "#sk-container-id-2 div.sk-toggleable {\n",
              "  /* Default theme specific background. It is overwritten whether we have a\n",
              "  specific estimator or a Pipeline/ColumnTransformer */\n",
              "  background-color: var(--sklearn-color-background);\n",
              "}\n",
              "\n",
              "/* Toggleable label */\n",
              "#sk-container-id-2 label.sk-toggleable__label {\n",
              "  cursor: pointer;\n",
              "  display: block;\n",
              "  width: 100%;\n",
              "  margin-bottom: 0;\n",
              "  padding: 0.5em;\n",
              "  box-sizing: border-box;\n",
              "  text-align: center;\n",
              "}\n",
              "\n",
              "#sk-container-id-2 label.sk-toggleable__label-arrow:before {\n",
              "  /* Arrow on the left of the label */\n",
              "  content: \"▸\";\n",
              "  float: left;\n",
              "  margin-right: 0.25em;\n",
              "  color: var(--sklearn-color-icon);\n",
              "}\n",
              "\n",
              "#sk-container-id-2 label.sk-toggleable__label-arrow:hover:before {\n",
              "  color: var(--sklearn-color-text);\n",
              "}\n",
              "\n",
              "/* Toggleable content - dropdown */\n",
              "\n",
              "#sk-container-id-2 div.sk-toggleable__content {\n",
              "  max-height: 0;\n",
              "  max-width: 0;\n",
              "  overflow: hidden;\n",
              "  text-align: left;\n",
              "  /* unfitted */\n",
              "  background-color: var(--sklearn-color-unfitted-level-0);\n",
              "}\n",
              "\n",
              "#sk-container-id-2 div.sk-toggleable__content.fitted {\n",
              "  /* fitted */\n",
              "  background-color: var(--sklearn-color-fitted-level-0);\n",
              "}\n",
              "\n",
              "#sk-container-id-2 div.sk-toggleable__content pre {\n",
              "  margin: 0.2em;\n",
              "  border-radius: 0.25em;\n",
              "  color: var(--sklearn-color-text);\n",
              "  /* unfitted */\n",
              "  background-color: var(--sklearn-color-unfitted-level-0);\n",
              "}\n",
              "\n",
              "#sk-container-id-2 div.sk-toggleable__content.fitted pre {\n",
              "  /* unfitted */\n",
              "  background-color: var(--sklearn-color-fitted-level-0);\n",
              "}\n",
              "\n",
              "#sk-container-id-2 input.sk-toggleable__control:checked~div.sk-toggleable__content {\n",
              "  /* Expand drop-down */\n",
              "  max-height: 200px;\n",
              "  max-width: 100%;\n",
              "  overflow: auto;\n",
              "}\n",
              "\n",
              "#sk-container-id-2 input.sk-toggleable__control:checked~label.sk-toggleable__label-arrow:before {\n",
              "  content: \"▾\";\n",
              "}\n",
              "\n",
              "/* Pipeline/ColumnTransformer-specific style */\n",
              "\n",
              "#sk-container-id-2 div.sk-label input.sk-toggleable__control:checked~label.sk-toggleable__label {\n",
              "  color: var(--sklearn-color-text);\n",
              "  background-color: var(--sklearn-color-unfitted-level-2);\n",
              "}\n",
              "\n",
              "#sk-container-id-2 div.sk-label.fitted input.sk-toggleable__control:checked~label.sk-toggleable__label {\n",
              "  background-color: var(--sklearn-color-fitted-level-2);\n",
              "}\n",
              "\n",
              "/* Estimator-specific style */\n",
              "\n",
              "/* Colorize estimator box */\n",
              "#sk-container-id-2 div.sk-estimator input.sk-toggleable__control:checked~label.sk-toggleable__label {\n",
              "  /* unfitted */\n",
              "  background-color: var(--sklearn-color-unfitted-level-2);\n",
              "}\n",
              "\n",
              "#sk-container-id-2 div.sk-estimator.fitted input.sk-toggleable__control:checked~label.sk-toggleable__label {\n",
              "  /* fitted */\n",
              "  background-color: var(--sklearn-color-fitted-level-2);\n",
              "}\n",
              "\n",
              "#sk-container-id-2 div.sk-label label.sk-toggleable__label,\n",
              "#sk-container-id-2 div.sk-label label {\n",
              "  /* The background is the default theme color */\n",
              "  color: var(--sklearn-color-text-on-default-background);\n",
              "}\n",
              "\n",
              "/* On hover, darken the color of the background */\n",
              "#sk-container-id-2 div.sk-label:hover label.sk-toggleable__label {\n",
              "  color: var(--sklearn-color-text);\n",
              "  background-color: var(--sklearn-color-unfitted-level-2);\n",
              "}\n",
              "\n",
              "/* Label box, darken color on hover, fitted */\n",
              "#sk-container-id-2 div.sk-label.fitted:hover label.sk-toggleable__label.fitted {\n",
              "  color: var(--sklearn-color-text);\n",
              "  background-color: var(--sklearn-color-fitted-level-2);\n",
              "}\n",
              "\n",
              "/* Estimator label */\n",
              "\n",
              "#sk-container-id-2 div.sk-label label {\n",
              "  font-family: monospace;\n",
              "  font-weight: bold;\n",
              "  display: inline-block;\n",
              "  line-height: 1.2em;\n",
              "}\n",
              "\n",
              "#sk-container-id-2 div.sk-label-container {\n",
              "  text-align: center;\n",
              "}\n",
              "\n",
              "/* Estimator-specific */\n",
              "#sk-container-id-2 div.sk-estimator {\n",
              "  font-family: monospace;\n",
              "  border: 1px dotted var(--sklearn-color-border-box);\n",
              "  border-radius: 0.25em;\n",
              "  box-sizing: border-box;\n",
              "  margin-bottom: 0.5em;\n",
              "  /* unfitted */\n",
              "  background-color: var(--sklearn-color-unfitted-level-0);\n",
              "}\n",
              "\n",
              "#sk-container-id-2 div.sk-estimator.fitted {\n",
              "  /* fitted */\n",
              "  background-color: var(--sklearn-color-fitted-level-0);\n",
              "}\n",
              "\n",
              "/* on hover */\n",
              "#sk-container-id-2 div.sk-estimator:hover {\n",
              "  /* unfitted */\n",
              "  background-color: var(--sklearn-color-unfitted-level-2);\n",
              "}\n",
              "\n",
              "#sk-container-id-2 div.sk-estimator.fitted:hover {\n",
              "  /* fitted */\n",
              "  background-color: var(--sklearn-color-fitted-level-2);\n",
              "}\n",
              "\n",
              "/* Specification for estimator info (e.g. \"i\" and \"?\") */\n",
              "\n",
              "/* Common style for \"i\" and \"?\" */\n",
              "\n",
              ".sk-estimator-doc-link,\n",
              "a:link.sk-estimator-doc-link,\n",
              "a:visited.sk-estimator-doc-link {\n",
              "  float: right;\n",
              "  font-size: smaller;\n",
              "  line-height: 1em;\n",
              "  font-family: monospace;\n",
              "  background-color: var(--sklearn-color-background);\n",
              "  border-radius: 1em;\n",
              "  height: 1em;\n",
              "  width: 1em;\n",
              "  text-decoration: none !important;\n",
              "  margin-left: 1ex;\n",
              "  /* unfitted */\n",
              "  border: var(--sklearn-color-unfitted-level-1) 1pt solid;\n",
              "  color: var(--sklearn-color-unfitted-level-1);\n",
              "}\n",
              "\n",
              ".sk-estimator-doc-link.fitted,\n",
              "a:link.sk-estimator-doc-link.fitted,\n",
              "a:visited.sk-estimator-doc-link.fitted {\n",
              "  /* fitted */\n",
              "  border: var(--sklearn-color-fitted-level-1) 1pt solid;\n",
              "  color: var(--sklearn-color-fitted-level-1);\n",
              "}\n",
              "\n",
              "/* On hover */\n",
              "div.sk-estimator:hover .sk-estimator-doc-link:hover,\n",
              ".sk-estimator-doc-link:hover,\n",
              "div.sk-label-container:hover .sk-estimator-doc-link:hover,\n",
              ".sk-estimator-doc-link:hover {\n",
              "  /* unfitted */\n",
              "  background-color: var(--sklearn-color-unfitted-level-3);\n",
              "  color: var(--sklearn-color-background);\n",
              "  text-decoration: none;\n",
              "}\n",
              "\n",
              "div.sk-estimator.fitted:hover .sk-estimator-doc-link.fitted:hover,\n",
              ".sk-estimator-doc-link.fitted:hover,\n",
              "div.sk-label-container:hover .sk-estimator-doc-link.fitted:hover,\n",
              ".sk-estimator-doc-link.fitted:hover {\n",
              "  /* fitted */\n",
              "  background-color: var(--sklearn-color-fitted-level-3);\n",
              "  color: var(--sklearn-color-background);\n",
              "  text-decoration: none;\n",
              "}\n",
              "\n",
              "/* Span, style for the box shown on hovering the info icon */\n",
              ".sk-estimator-doc-link span {\n",
              "  display: none;\n",
              "  z-index: 9999;\n",
              "  position: relative;\n",
              "  font-weight: normal;\n",
              "  right: .2ex;\n",
              "  padding: .5ex;\n",
              "  margin: .5ex;\n",
              "  width: min-content;\n",
              "  min-width: 20ex;\n",
              "  max-width: 50ex;\n",
              "  color: var(--sklearn-color-text);\n",
              "  box-shadow: 2pt 2pt 4pt #999;\n",
              "  /* unfitted */\n",
              "  background: var(--sklearn-color-unfitted-level-0);\n",
              "  border: .5pt solid var(--sklearn-color-unfitted-level-3);\n",
              "}\n",
              "\n",
              ".sk-estimator-doc-link.fitted span {\n",
              "  /* fitted */\n",
              "  background: var(--sklearn-color-fitted-level-0);\n",
              "  border: var(--sklearn-color-fitted-level-3);\n",
              "}\n",
              "\n",
              ".sk-estimator-doc-link:hover span {\n",
              "  display: block;\n",
              "}\n",
              "\n",
              "/* \"?\"-specific style due to the `<a>` HTML tag */\n",
              "\n",
              "#sk-container-id-2 a.estimator_doc_link {\n",
              "  float: right;\n",
              "  font-size: 1rem;\n",
              "  line-height: 1em;\n",
              "  font-family: monospace;\n",
              "  background-color: var(--sklearn-color-background);\n",
              "  border-radius: 1rem;\n",
              "  height: 1rem;\n",
              "  width: 1rem;\n",
              "  text-decoration: none;\n",
              "  /* unfitted */\n",
              "  color: var(--sklearn-color-unfitted-level-1);\n",
              "  border: var(--sklearn-color-unfitted-level-1) 1pt solid;\n",
              "}\n",
              "\n",
              "#sk-container-id-2 a.estimator_doc_link.fitted {\n",
              "  /* fitted */\n",
              "  border: var(--sklearn-color-fitted-level-1) 1pt solid;\n",
              "  color: var(--sklearn-color-fitted-level-1);\n",
              "}\n",
              "\n",
              "/* On hover */\n",
              "#sk-container-id-2 a.estimator_doc_link:hover {\n",
              "  /* unfitted */\n",
              "  background-color: var(--sklearn-color-unfitted-level-3);\n",
              "  color: var(--sklearn-color-background);\n",
              "  text-decoration: none;\n",
              "}\n",
              "\n",
              "#sk-container-id-2 a.estimator_doc_link.fitted:hover {\n",
              "  /* fitted */\n",
              "  background-color: var(--sklearn-color-fitted-level-3);\n",
              "}\n",
              "</style><div id=\"sk-container-id-2\" class=\"sk-top-container\"><div class=\"sk-text-repr-fallback\"><pre>GridSearchCV(cv=KFold(n_splits=10, random_state=1, shuffle=True),\n",
              "             estimator=Pipeline(steps=[(&#x27;scaler&#x27;, StandardScaler()),\n",
              "                                       (&#x27;lasso&#x27;,\n",
              "                                        Lasso(max_iter=30000,\n",
              "                                              warm_start=True))]),\n",
              "             param_grid={&#x27;lasso__alpha&#x27;: array([255.65755026, 244.03752004, 232.94563812, 222.35789935,\n",
              "       212.25138966, 202.60423642, 193.39556119, 184.60543446,\n",
              "       176.21483255, 168.20559645, 160.5603925 , 153.262...\n",
              "        10.81237873,  10.32093943,   9.8518368 ,   9.40405561,\n",
              "         8.97662677,   8.56862523,   8.17916799,   7.80741218,\n",
              "         7.45255325,   7.1138232 ,   6.79048896,   6.48185076,\n",
              "         6.18724064,   5.906021  ,   5.63758323,   5.38134637,\n",
              "         5.13675587,   4.90328239,   4.68042064,   4.4676883 ,\n",
              "         4.26462497,   4.07079118,   3.88576744,   3.70915331,\n",
              "         3.54056657,   3.37964236,   3.2260324 ,   3.07940424,\n",
              "         2.93944057,   2.80583846,   2.67830877,   2.5565755 ])},\n",
              "             scoring=&#x27;neg_mean_absolute_error&#x27;)</pre><b>In a Jupyter environment, please rerun this cell to show the HTML representation or trust the notebook. <br />On GitHub, the HTML representation is unable to render, please try loading this page with nbviewer.org.</b></div><div class=\"sk-container\" hidden><div class=\"sk-item sk-dashed-wrapped\"><div class=\"sk-label-container\"><div class=\"sk-label fitted sk-toggleable\"><input class=\"sk-toggleable__control sk-hidden--visually\" id=\"sk-estimator-id-5\" type=\"checkbox\" ><label for=\"sk-estimator-id-5\" class=\"sk-toggleable__label fitted sk-toggleable__label-arrow fitted\">&nbsp;&nbsp;GridSearchCV<a class=\"sk-estimator-doc-link fitted\" rel=\"noreferrer\" target=\"_blank\" href=\"https://scikit-learn.org/1.4/modules/generated/sklearn.model_selection.GridSearchCV.html\">?<span>Documentation for GridSearchCV</span></a><span class=\"sk-estimator-doc-link fitted\">i<span>Fitted</span></span></label><div class=\"sk-toggleable__content fitted\"><pre>GridSearchCV(cv=KFold(n_splits=10, random_state=1, shuffle=True),\n",
              "             estimator=Pipeline(steps=[(&#x27;scaler&#x27;, StandardScaler()),\n",
              "                                       (&#x27;lasso&#x27;,\n",
              "                                        Lasso(max_iter=30000,\n",
              "                                              warm_start=True))]),\n",
              "             param_grid={&#x27;lasso__alpha&#x27;: array([255.65755026, 244.03752004, 232.94563812, 222.35789935,\n",
              "       212.25138966, 202.60423642, 193.39556119, 184.60543446,\n",
              "       176.21483255, 168.20559645, 160.5603925 , 153.262...\n",
              "        10.81237873,  10.32093943,   9.8518368 ,   9.40405561,\n",
              "         8.97662677,   8.56862523,   8.17916799,   7.80741218,\n",
              "         7.45255325,   7.1138232 ,   6.79048896,   6.48185076,\n",
              "         6.18724064,   5.906021  ,   5.63758323,   5.38134637,\n",
              "         5.13675587,   4.90328239,   4.68042064,   4.4676883 ,\n",
              "         4.26462497,   4.07079118,   3.88576744,   3.70915331,\n",
              "         3.54056657,   3.37964236,   3.2260324 ,   3.07940424,\n",
              "         2.93944057,   2.80583846,   2.67830877,   2.5565755 ])},\n",
              "             scoring=&#x27;neg_mean_absolute_error&#x27;)</pre></div> </div></div><div class=\"sk-parallel\"><div class=\"sk-parallel-item\"><div class=\"sk-item\"><div class=\"sk-label-container\"><div class=\"sk-label fitted sk-toggleable\"><input class=\"sk-toggleable__control sk-hidden--visually\" id=\"sk-estimator-id-6\" type=\"checkbox\" ><label for=\"sk-estimator-id-6\" class=\"sk-toggleable__label fitted sk-toggleable__label-arrow fitted\">estimator: Pipeline</label><div class=\"sk-toggleable__content fitted\"><pre>Pipeline(steps=[(&#x27;scaler&#x27;, StandardScaler()),\n",
              "                (&#x27;lasso&#x27;, Lasso(max_iter=30000, warm_start=True))])</pre></div> </div></div><div class=\"sk-serial\"><div class=\"sk-item\"><div class=\"sk-serial\"><div class=\"sk-item\"><div class=\"sk-estimator fitted sk-toggleable\"><input class=\"sk-toggleable__control sk-hidden--visually\" id=\"sk-estimator-id-7\" type=\"checkbox\" ><label for=\"sk-estimator-id-7\" class=\"sk-toggleable__label fitted sk-toggleable__label-arrow fitted\">&nbsp;StandardScaler<a class=\"sk-estimator-doc-link fitted\" rel=\"noreferrer\" target=\"_blank\" href=\"https://scikit-learn.org/1.4/modules/generated/sklearn.preprocessing.StandardScaler.html\">?<span>Documentation for StandardScaler</span></a></label><div class=\"sk-toggleable__content fitted\"><pre>StandardScaler()</pre></div> </div></div><div class=\"sk-item\"><div class=\"sk-estimator fitted sk-toggleable\"><input class=\"sk-toggleable__control sk-hidden--visually\" id=\"sk-estimator-id-8\" type=\"checkbox\" ><label for=\"sk-estimator-id-8\" class=\"sk-toggleable__label fitted sk-toggleable__label-arrow fitted\">&nbsp;Lasso<a class=\"sk-estimator-doc-link fitted\" rel=\"noreferrer\" target=\"_blank\" href=\"https://scikit-learn.org/1.4/modules/generated/sklearn.linear_model.Lasso.html\">?<span>Documentation for Lasso</span></a></label><div class=\"sk-toggleable__content fitted\"><pre>Lasso(max_iter=30000, warm_start=True)</pre></div> </div></div></div></div></div></div></div></div></div></div></div>"
            ],
            "text/plain": [
              "GridSearchCV(cv=KFold(n_splits=10, random_state=1, shuffle=True),\n",
              "             estimator=Pipeline(steps=[('scaler', StandardScaler()),\n",
              "                                       ('lasso',\n",
              "                                        Lasso(max_iter=30000,\n",
              "                                              warm_start=True))]),\n",
              "             param_grid={'lasso__alpha': array([255.65755026, 244.03752004, 232.94563812, 222.35789935,\n",
              "       212.25138966, 202.60423642, 193.39556119, 184.60543446,\n",
              "       176.21483255, 168.20559645, 160.5603925 , 153.262...\n",
              "        10.81237873,  10.32093943,   9.8518368 ,   9.40405561,\n",
              "         8.97662677,   8.56862523,   8.17916799,   7.80741218,\n",
              "         7.45255325,   7.1138232 ,   6.79048896,   6.48185076,\n",
              "         6.18724064,   5.906021  ,   5.63758323,   5.38134637,\n",
              "         5.13675587,   4.90328239,   4.68042064,   4.4676883 ,\n",
              "         4.26462497,   4.07079118,   3.88576744,   3.70915331,\n",
              "         3.54056657,   3.37964236,   3.2260324 ,   3.07940424,\n",
              "         2.93944057,   2.80583846,   2.67830877,   2.5565755 ])},\n",
              "             scoring='neg_mean_absolute_error')"
            ]
          },
          "execution_count": 64,
          "metadata": {},
          "output_type": "execute_result"
        }
      ],
      "source": [
        "cv = KFold(10,\n",
        "           shuffle=True,\n",
        "           random_state=1)\n",
        "grid = GridSearchCV(standard_lasso,\n",
        "                    param_grid,\n",
        "                    cv=cv,\n",
        "                    scoring='neg_mean_absolute_error')\n",
        "grid.fit(X_train, Y_train)"
      ]
    },
    {
      "cell_type": "markdown",
      "id": "4411b3c2",
      "metadata": {
        "id": "4411b3c2"
      },
      "source": [
        "We extract the lasso model with best cross-validated mean absolute error, and evaluate its\n",
        "performance on `X_test` and `Y_test`, which were not used in\n",
        "cross-validation."
      ]
    },
    {
      "cell_type": "code",
      "execution_count": 65,
      "id": "c82dee46",
      "metadata": {
        "id": "c82dee46",
        "lines_to_next_cell": 0
      },
      "outputs": [
        {
          "data": {
            "text/plain": [
              "235.6754837478029"
            ]
          },
          "execution_count": 65,
          "metadata": {},
          "output_type": "execute_result"
        }
      ],
      "source": [
        "trained_lasso = grid.best_estimator_\n",
        "Yhat_test = trained_lasso.predict(X_test)\n",
        "np.fabs(Yhat_test - Y_test).mean()"
      ]
    },
    {
      "cell_type": "markdown",
      "id": "83daf823",
      "metadata": {
        "id": "83daf823"
      },
      "source": [
        "This is similar to the results we got for the linear model fit by least squares. However, these results can vary a lot for different train/test splits; we encourage the reader to try a different seed in code block 12 and rerun the subsequent code up to this point.\n",
        "\n",
        "### Specifying a Network: Classes and Inheritance\n",
        "To fit the neural network, we first set up a model structure\n",
        "that describes the network.\n",
        "Doing so requires us to define new classes specific to the model we wish to fit.\n",
        "Typically this is done in  `pytorch` by sub-classing a generic\n",
        "representation of a network, which is the approach we take here.\n",
        "Although this example is simple, we will go through the steps in some detail, since it will serve us well\n",
        "for the more complex examples to follow.\n"
      ]
    },
    {
      "cell_type": "code",
      "execution_count": 66,
      "id": "1e5e4655",
      "metadata": {
        "id": "1e5e4655"
      },
      "outputs": [],
      "source": [
        "class HittersModel(nn.Module):\n",
        "\n",
        "    def __init__(self, input_size):\n",
        "        super(HittersModel, self).__init__()\n",
        "        self.flatten = nn.Flatten()\n",
        "        self.sequential = nn.Sequential(\n",
        "            nn.Linear(input_size, 50),\n",
        "            nn.ReLU(),\n",
        "            nn.Dropout(0.4),\n",
        "            nn.Linear(50, 1))\n",
        "\n",
        "    def forward(self, x):\n",
        "        x = self.flatten(x)\n",
        "        return torch.flatten(self.sequential(x))\n"
      ]
    },
    {
      "cell_type": "markdown",
      "id": "99b04b42",
      "metadata": {
        "id": "99b04b42"
      },
      "source": [
        "The `class` statement identifies the code chunk as a\n",
        "declaration for a class `HittersModel`\n",
        "that inherits from the  base class `nn.Module`. This base\n",
        "class is ubiquitous in `torch` and represents the\n",
        "mappings in the neural networks.\n",
        "\n",
        "Indented beneath the `class` statement are the methods of this class:\n",
        "in this case `__init__` and `forward`.  The `__init__` method is\n",
        "called when an instance of the class is created as in the cell\n",
        "below. In the methods, `self` always refers to an instance of the\n",
        "class. In the `__init__` method, we have attached two objects to\n",
        "`self` as attributes: `flatten` and `sequential`. These are used in\n",
        "the `forward` method to describe the map that this module implements.\n",
        "\n",
        "There is one additional line in the `__init__` method, which\n",
        "is a call to\n",
        "`super()`. This function allows subclasses (i.e. `HittersModel`)\n",
        "to access methods of the class they inherit from. For example,\n",
        "the class `nn.Module` has its own `__init__` method, which is different from\n",
        "the `HittersModel.__init__()` method we’ve written above.\n",
        "Using `super()` allows us to call the method of the base class. For\n",
        "`torch` models, we will always be making this `super()` call as it is necessary\n",
        "for the model to be properly interpreted by `torch`.\n",
        "\n",
        "The object `nn.Module` has more methods than simply `__init__` and `forward`. These\n",
        "methods are directly accessible to `HittersModel` instances because of this inheritance.\n",
        "One such method we will see shortly is the `eval()` method, used\n",
        "to disable dropout for when we want to evaluate the model on test data."
      ]
    },
    {
      "cell_type": "code",
      "execution_count": 67,
      "id": "ff3d0646",
      "metadata": {
        "id": "ff3d0646"
      },
      "outputs": [],
      "source": [
        "hit_model = HittersModel(X.shape[1])\n"
      ]
    },
    {
      "cell_type": "markdown",
      "id": "1229d2e4",
      "metadata": {
        "id": "1229d2e4"
      },
      "source": [
        "The object `self.sequential` is a composition of four maps. The\n",
        "first maps the 19 features of `Hitters` to 50 dimensions, introducing $50\\times 19+50$ parameters\n",
        "for the weights and *intercept*  of the map (often called the *bias*). This layer\n",
        "is then mapped to a ReLU layer followed by a 40% dropout layer, and finally a\n",
        "linear map down to 1 dimension, again with a bias. The total number of\n",
        "trainable parameters is therefore $50\\times 19+50+50+1=1051$.\n",
        "\n",
        "    "
      ]
    },
    {
      "cell_type": "markdown",
      "id": "dd83b59c",
      "metadata": {
        "id": "dd83b59c"
      },
      "source": [
        "The package `torchinfo` provides a `summary()` function that neatly summarizes\n",
        "this information. We specify the size of the input and see the size\n",
        "of each tensor as it passes through layers of the network."
      ]
    },
    {
      "cell_type": "code",
      "execution_count": 68,
      "id": "5318bef9",
      "metadata": {
        "id": "5318bef9",
        "lines_to_next_cell": 0
      },
      "outputs": [
        {
          "data": {
            "text/plain": [
              "===================================================================================================================\n",
              "Layer (type:depth-idx)                   Input Shape               Output Shape              Param #\n",
              "===================================================================================================================\n",
              "HittersModel                             [175, 19]                 [175]                     --\n",
              "├─Flatten: 1-1                           [175, 19]                 [175, 19]                 --\n",
              "├─Sequential: 1-2                        [175, 19]                 [175, 1]                  --\n",
              "│    └─Linear: 2-1                       [175, 19]                 [175, 50]                 1,000\n",
              "│    └─ReLU: 2-2                         [175, 50]                 [175, 50]                 --\n",
              "│    └─Dropout: 2-3                      [175, 50]                 [175, 50]                 --\n",
              "│    └─Linear: 2-4                       [175, 50]                 [175, 1]                  51\n",
              "===================================================================================================================\n",
              "Total params: 1,051\n",
              "Trainable params: 1,051\n",
              "Non-trainable params: 0\n",
              "Total mult-adds (M): 0.18\n",
              "===================================================================================================================\n",
              "Input size (MB): 0.01\n",
              "Forward/backward pass size (MB): 0.07\n",
              "Params size (MB): 0.00\n",
              "Estimated Total Size (MB): 0.09\n",
              "==================================================================================================================="
            ]
          },
          "execution_count": 68,
          "metadata": {},
          "output_type": "execute_result"
        }
      ],
      "source": [
        "summary(hit_model,\n",
        "        input_size=X_train.shape,\n",
        "        col_names=['input_size',\n",
        "                   'output_size',\n",
        "                   'num_params'])\n"
      ]
    },
    {
      "cell_type": "markdown",
      "id": "415949bf",
      "metadata": {
        "id": "415949bf"
      },
      "source": [
        "We have truncated the end of the output slightly, here and in subsequent uses.\n",
        "\n",
        "We now need to transform our training data into a form accessible to `torch`.\n",
        "The basic\n",
        "datatype in `torch` is a `tensor`, which is very similar\n",
        "to an `ndarray` from early chapters.\n",
        "We also note here that `torch` typically\n",
        "works with 32-bit (*single precision*)\n",
        "rather than 64-bit (*double precision*) floating point numbers.\n",
        "We therefore convert our data to `np.float32` before\n",
        "forming the tensor.\n",
        "The $X$ and $Y$ tensors are then arranged into a `Dataset`\n",
        "recognized by `torch`\n",
        "using `TensorDataset()`."
      ]
    },
    {
      "cell_type": "code",
      "execution_count": 69,
      "id": "7dfc40df",
      "metadata": {
        "id": "7dfc40df",
        "lines_to_next_cell": 0
      },
      "outputs": [],
      "source": [
        "X_train_t = torch.tensor(X_train.astype(np.float32))\n",
        "Y_train_t = torch.tensor(Y_train.astype(np.float32))\n",
        "hit_train = TensorDataset(X_train_t, Y_train_t)"
      ]
    },
    {
      "cell_type": "markdown",
      "id": "e9415167",
      "metadata": {
        "id": "e9415167"
      },
      "source": [
        "We do the same for the test data."
      ]
    },
    {
      "cell_type": "code",
      "execution_count": 70,
      "id": "d9f17fe9",
      "metadata": {
        "id": "d9f17fe9"
      },
      "outputs": [],
      "source": [
        "X_test_t = torch.tensor(X_test.astype(np.float32))\n",
        "Y_test_t = torch.tensor(Y_test.astype(np.float32))\n",
        "hit_test = TensorDataset(X_test_t, Y_test_t)\n"
      ]
    },
    {
      "cell_type": "markdown",
      "id": "4fa47715",
      "metadata": {
        "id": "4fa47715"
      },
      "source": [
        "Finally, this dataset is passed to a `DataLoader()` which ultimately\n",
        "passes data into our network. While this may seem\n",
        "like a lot of overhead, this structure is helpful for more\n",
        "complex tasks where data may live on different machines,\n",
        "or where data must be passed to a GPU.\n",
        "We provide a helper function `SimpleDataModule()` in `ISLP` to make this task easier for\n",
        "standard usage.\n",
        "One of its arguments is `num_workers`, which indicates\n",
        "how many processes we will use\n",
        "for loading the data. For small\n",
        "data like `Hitters` this will have little effect, but\n",
        "it does provide an advantage for the `MNIST`  and `CIFAR100` examples below.\n",
        "The `torch` package will inspect the process running and determine a\n",
        "maximum number of workers. {This depends on the computing hardware and the number of cores available.} We’ve included a function\n",
        "`rec_num_workers()` to compute this so we know how many\n",
        "workers might be reasonable (here the max was 16)."
      ]
    },
    {
      "cell_type": "code",
      "execution_count": 71,
      "id": "8860952f",
      "metadata": {
        "id": "8860952f"
      },
      "outputs": [
        {
          "name": "stdout",
          "output_type": "stream",
          "text": [
            "4\n"
          ]
        }
      ],
      "source": [
        "max_num_workers = rec_num_workers()\n",
        "print(max_num_workers)"
      ]
    },
    {
      "cell_type": "markdown",
      "id": "fbfc6738",
      "metadata": {
        "id": "fbfc6738"
      },
      "source": [
        "The general training setup in `pytorch_lightning` involves\n",
        "training, validation and test data. These are each\n",
        "represented by different data loaders. During each epoch,\n",
        "we run a training step to learn the model and a validation\n",
        "step to track the error. The test data is typically\n",
        "used at the end of training to evaluate the model.\n",
        "\n",
        "In this case, as we had split only into test and training,\n",
        "we’ll use the test data as validation data with the\n",
        "argument `validation=hit_test`. The\n",
        "`validation` argument can be a float between 0 and 1, an\n",
        "integer, or a\n",
        "`Dataset`. If a float (respectively, integer), it is interpreted\n",
        "as a percentage (respectively number) of the *training* observations to be used for validation.\n",
        "If it is a `Dataset`, it is passed directly to a data loader."
      ]
    },
    {
      "cell_type": "code",
      "execution_count": 72,
      "id": "054a982c",
      "metadata": {
        "id": "054a982c"
      },
      "outputs": [],
      "source": [
        "hit_dm = SimpleDataModule(hit_train,\n",
        "                          hit_test,\n",
        "                          batch_size=32,\n",
        "                          num_workers=min(4, max_num_workers),\n",
        "                          validation=hit_test)\n"
      ]
    },
    {
      "cell_type": "markdown",
      "id": "c4052d23",
      "metadata": {
        "id": "c4052d23"
      },
      "source": [
        "Next we must provide a `pytorch_lightning` module that controls\n",
        "the steps performed during the training process. We provide methods for our\n",
        "`SimpleModule()` that simply record the value\n",
        "of the loss function and any additional\n",
        "metrics at the end of each epoch. These operations\n",
        "are controlled by the methods `SimpleModule.[training/test/validation]_step()`, though\n",
        "we will not be modifying these in our examples."
      ]
    },
    {
      "cell_type": "code",
      "execution_count": 73,
      "id": "876d67bf",
      "metadata": {
        "id": "876d67bf"
      },
      "outputs": [],
      "source": [
        "hit_module = SimpleModule.regression(hit_model,\n",
        "                           metrics={'mae':MeanAbsoluteError()})\n"
      ]
    },
    {
      "cell_type": "markdown",
      "id": "fdb19046",
      "metadata": {
        "id": "fdb19046"
      },
      "source": [
        " By using the `SimpleModule.regression()` method,  we indicate that we will use squared-error loss as in\n",
        "(10.23).\n",
        "We have also asked for mean absolute error to be tracked as well\n",
        "in the metrics that are logged.\n",
        "\n",
        "We log our results via `CSVLogger()`, which in this case stores the results in a CSV file within a directory `logs/hitters`. After the fitting is complete, this allows us to load the\n",
        "results as a `pd.DataFrame()` and visualize them below. There are\n",
        "several ways to log the results within `pytorch_lightning`, though\n",
        "we will not cover those here in detail."
      ]
    },
    {
      "cell_type": "code",
      "execution_count": 74,
      "id": "2b8e22cb",
      "metadata": {
        "id": "2b8e22cb"
      },
      "outputs": [],
      "source": [
        "hit_logger = CSVLogger('logs', name='hitters')"
      ]
    },
    {
      "cell_type": "markdown",
      "id": "6d89d602",
      "metadata": {
        "id": "6d89d602"
      },
      "source": [
        "Finally we are ready to train our model and log the results. We\n",
        "use the `Trainer()` object from `pytorch_lightning`\n",
        "to do this work. The argument `datamodule=hit_dm` tells the trainer\n",
        "how training/validation/test logs are produced,\n",
        "while the first argument `hit_module`\n",
        "specifies the network architecture\n",
        "as well as the training/validation/test steps.\n",
        "The `callbacks` argument allows for\n",
        "several tasks to be carried out at various\n",
        "points while training a model. Here\n",
        "our `ErrorTracker()` callback will enable\n",
        "us to compute validation error while training\n",
        "and, finally, the test error.\n",
        "We now fit the model for 50 epochs."
      ]
    },
    {
      "cell_type": "code",
      "execution_count": 75,
      "id": "3989bae8",
      "metadata": {
        "id": "3989bae8",
        "lines_to_next_cell": 0
      },
      "outputs": [
        {
          "name": "stderr",
          "output_type": "stream",
          "text": [
            "GPU available: False, used: False\n",
            "TPU available: False, using: 0 TPU cores\n",
            "IPU available: False, using: 0 IPUs\n",
            "HPU available: False, using: 0 HPUs\n",
            "\n",
            "  | Name  | Type         | Params\n",
            "---------------------------------------\n",
            "0 | model | HittersModel | 1.1 K \n",
            "1 | loss  | MSELoss      | 0     \n",
            "---------------------------------------\n",
            "1.1 K     Trainable params\n",
            "0         Non-trainable params\n",
            "1.1 K     Total params\n",
            "0.004     Total estimated model params size (MB)\n"
          ]
        },
        {
          "name": "stdout",
          "output_type": "stream",
          "text": [
            "Epoch 47: 100%|██████████| 6/6 [00:00<00:00, 43.00it/s, v_num=2]           "
          ]
        },
        {
          "name": "stdout",
          "output_type": "stream",
          "text": [
            "Epoch 49: 100%|██████████| 6/6 [00:00<00:00, 12.59it/s, v_num=2]"
          ]
        },
        {
          "name": "stderr",
          "output_type": "stream",
          "text": [
            "`Trainer.fit` stopped: `max_epochs=50` reached.\n"
          ]
        },
        {
          "name": "stdout",
          "output_type": "stream",
          "text": [
            "Epoch 49: 100%|██████████| 6/6 [00:00<00:00, 11.46it/s, v_num=2]\n"
          ]
        }
      ],
      "source": [
        "hit_trainer = Trainer(deterministic=True,\n",
        "                      max_epochs=50,\n",
        "                      log_every_n_steps=5,\n",
        "                      logger=hit_logger,\n",
        "                      callbacks=[ErrorTracker()])\n",
        "hit_trainer.fit(hit_module, datamodule=hit_dm)"
      ]
    },
    {
      "cell_type": "markdown",
      "id": "9e24e95b",
      "metadata": {
        "id": "9e24e95b"
      },
      "source": [
        "At each step of SGD, the algorithm randomly selects 32 training observations for\n",
        "the computation of the gradient. Recall from Section 10.7\n",
        "that an epoch amounts to the number of SGD steps required to process $n$\n",
        "observations. Since the training set has\n",
        "$n=175$, and we specified a `batch_size` of 32 in the construction of  `hit_dm`, an epoch is $175/32=5.5$ SGD steps.\n",
        "\n",
        "After having fit the model, we can evaluate performance on our test\n",
        "data using the `test()` method of our trainer."
      ]
    },
    {
      "cell_type": "code",
      "execution_count": 76,
      "id": "c550b424",
      "metadata": {
        "id": "c550b424",
        "lines_to_next_cell": 2
      },
      "outputs": [
        {
          "name": "stdout",
          "output_type": "stream",
          "text": [
            "Testing DataLoader 0: 100%|██████████| 3/3 [00:00<00:00, 13.47it/s]\n",
            "────────────────────────────────────────────────────────────────────────────────────────────────────────────────────────\n",
            "       Test metric             DataLoader 0\n",
            "────────────────────────────────────────────────────────────────────────────────────────────────────────────────────────\n",
            "        test_loss             104098.5703125\n",
            "        test_mae            229.50115966796875\n",
            "────────────────────────────────────────────────────────────────────────────────────────────────────────────────────────\n"
          ]
        },
        {
          "data": {
            "text/plain": [
              "[{'test_loss': 104098.5703125, 'test_mae': 229.50115966796875}]"
            ]
          },
          "execution_count": 76,
          "metadata": {},
          "output_type": "execute_result"
        }
      ],
      "source": [
        "hit_trainer.test(hit_module, datamodule=hit_dm)"
      ]
    },
    {
      "cell_type": "markdown",
      "id": "13d4f77c",
      "metadata": {
        "id": "13d4f77c"
      },
      "source": [
        "The results of the fit have been logged into a CSV file. We can find the\n",
        "results specific to this run in the `experiment.metrics_file_path`\n",
        "attribute of our logger. Note that each time the model is fit, the logger will output\n",
        "results into a new subdirectory of our directory `logs/hitters`.\n",
        "\n",
        "We now create a plot of the MAE (mean absolute error) as a function of\n",
        "the number of epochs.\n",
        "First we retrieve the logged summaries."
      ]
    },
    {
      "cell_type": "code",
      "execution_count": 77,
      "id": "10123be1",
      "metadata": {
        "id": "10123be1"
      },
      "outputs": [
        {
          "data": {
            "text/html": [
              "<div>\n",
              "<style scoped>\n",
              "    .dataframe tbody tr th:only-of-type {\n",
              "        vertical-align: middle;\n",
              "    }\n",
              "\n",
              "    .dataframe tbody tr th {\n",
              "        vertical-align: top;\n",
              "    }\n",
              "\n",
              "    .dataframe thead th {\n",
              "        text-align: right;\n",
              "    }\n",
              "</style>\n",
              "<table border=\"1\" class=\"dataframe\">\n",
              "  <thead>\n",
              "    <tr style=\"text-align: right;\">\n",
              "      <th></th>\n",
              "      <th>epoch</th>\n",
              "      <th>step</th>\n",
              "      <th>test_loss</th>\n",
              "      <th>test_mae</th>\n",
              "      <th>train_loss</th>\n",
              "      <th>train_mae_epoch</th>\n",
              "      <th>train_mae_step</th>\n",
              "      <th>valid_loss</th>\n",
              "      <th>valid_mae</th>\n",
              "    </tr>\n",
              "  </thead>\n",
              "  <tbody>\n",
              "    <tr>\n",
              "      <th>0</th>\n",
              "      <td>0</td>\n",
              "      <td>4</td>\n",
              "      <td>NaN</td>\n",
              "      <td>NaN</td>\n",
              "      <td>NaN</td>\n",
              "      <td>NaN</td>\n",
              "      <td>386.986084</td>\n",
              "      <td>NaN</td>\n",
              "      <td>NaN</td>\n",
              "    </tr>\n",
              "    <tr>\n",
              "      <th>1</th>\n",
              "      <td>0</td>\n",
              "      <td>5</td>\n",
              "      <td>NaN</td>\n",
              "      <td>NaN</td>\n",
              "      <td>NaN</td>\n",
              "      <td>NaN</td>\n",
              "      <td>NaN</td>\n",
              "      <td>145063.593750</td>\n",
              "      <td>237.685242</td>\n",
              "    </tr>\n",
              "    <tr>\n",
              "      <th>2</th>\n",
              "      <td>0</td>\n",
              "      <td>5</td>\n",
              "      <td>NaN</td>\n",
              "      <td>NaN</td>\n",
              "      <td>715415.2500</td>\n",
              "      <td>561.457336</td>\n",
              "      <td>NaN</td>\n",
              "      <td>NaN</td>\n",
              "      <td>NaN</td>\n",
              "    </tr>\n",
              "    <tr>\n",
              "      <th>3</th>\n",
              "      <td>1</td>\n",
              "      <td>9</td>\n",
              "      <td>NaN</td>\n",
              "      <td>NaN</td>\n",
              "      <td>NaN</td>\n",
              "      <td>NaN</td>\n",
              "      <td>273.843903</td>\n",
              "      <td>NaN</td>\n",
              "      <td>NaN</td>\n",
              "    </tr>\n",
              "    <tr>\n",
              "      <th>4</th>\n",
              "      <td>1</td>\n",
              "      <td>11</td>\n",
              "      <td>NaN</td>\n",
              "      <td>NaN</td>\n",
              "      <td>NaN</td>\n",
              "      <td>NaN</td>\n",
              "      <td>NaN</td>\n",
              "      <td>131679.796875</td>\n",
              "      <td>236.432709</td>\n",
              "    </tr>\n",
              "    <tr>\n",
              "      <th>...</th>\n",
              "      <td>...</td>\n",
              "      <td>...</td>\n",
              "      <td>...</td>\n",
              "      <td>...</td>\n",
              "      <td>...</td>\n",
              "      <td>...</td>\n",
              "      <td>...</td>\n",
              "      <td>...</td>\n",
              "      <td>...</td>\n",
              "    </tr>\n",
              "    <tr>\n",
              "      <th>156</th>\n",
              "      <td>49</td>\n",
              "      <td>294</td>\n",
              "      <td>NaN</td>\n",
              "      <td>NaN</td>\n",
              "      <td>NaN</td>\n",
              "      <td>NaN</td>\n",
              "      <td>338.384521</td>\n",
              "      <td>NaN</td>\n",
              "      <td>NaN</td>\n",
              "    </tr>\n",
              "    <tr>\n",
              "      <th>157</th>\n",
              "      <td>49</td>\n",
              "      <td>299</td>\n",
              "      <td>NaN</td>\n",
              "      <td>NaN</td>\n",
              "      <td>NaN</td>\n",
              "      <td>NaN</td>\n",
              "      <td>198.867279</td>\n",
              "      <td>NaN</td>\n",
              "      <td>NaN</td>\n",
              "    </tr>\n",
              "    <tr>\n",
              "      <th>158</th>\n",
              "      <td>49</td>\n",
              "      <td>299</td>\n",
              "      <td>NaN</td>\n",
              "      <td>NaN</td>\n",
              "      <td>NaN</td>\n",
              "      <td>NaN</td>\n",
              "      <td>NaN</td>\n",
              "      <td>104098.570312</td>\n",
              "      <td>229.501160</td>\n",
              "    </tr>\n",
              "    <tr>\n",
              "      <th>159</th>\n",
              "      <td>49</td>\n",
              "      <td>299</td>\n",
              "      <td>NaN</td>\n",
              "      <td>NaN</td>\n",
              "      <td>108526.8125</td>\n",
              "      <td>236.133484</td>\n",
              "      <td>NaN</td>\n",
              "      <td>NaN</td>\n",
              "      <td>NaN</td>\n",
              "    </tr>\n",
              "    <tr>\n",
              "      <th>160</th>\n",
              "      <td>50</td>\n",
              "      <td>300</td>\n",
              "      <td>104098.570312</td>\n",
              "      <td>229.50116</td>\n",
              "      <td>NaN</td>\n",
              "      <td>NaN</td>\n",
              "      <td>NaN</td>\n",
              "      <td>NaN</td>\n",
              "      <td>NaN</td>\n",
              "    </tr>\n",
              "  </tbody>\n",
              "</table>\n",
              "<p>161 rows × 9 columns</p>\n",
              "</div>"
            ],
            "text/plain": [
              "     epoch  step      test_loss   test_mae   train_loss  train_mae_epoch  \\\n",
              "0        0     4            NaN        NaN          NaN              NaN   \n",
              "1        0     5            NaN        NaN          NaN              NaN   \n",
              "2        0     5            NaN        NaN  715415.2500       561.457336   \n",
              "3        1     9            NaN        NaN          NaN              NaN   \n",
              "4        1    11            NaN        NaN          NaN              NaN   \n",
              "..     ...   ...            ...        ...          ...              ...   \n",
              "156     49   294            NaN        NaN          NaN              NaN   \n",
              "157     49   299            NaN        NaN          NaN              NaN   \n",
              "158     49   299            NaN        NaN          NaN              NaN   \n",
              "159     49   299            NaN        NaN  108526.8125       236.133484   \n",
              "160     50   300  104098.570312  229.50116          NaN              NaN   \n",
              "\n",
              "     train_mae_step     valid_loss   valid_mae  \n",
              "0        386.986084            NaN         NaN  \n",
              "1               NaN  145063.593750  237.685242  \n",
              "2               NaN            NaN         NaN  \n",
              "3        273.843903            NaN         NaN  \n",
              "4               NaN  131679.796875  236.432709  \n",
              "..              ...            ...         ...  \n",
              "156      338.384521            NaN         NaN  \n",
              "157      198.867279            NaN         NaN  \n",
              "158             NaN  104098.570312  229.501160  \n",
              "159             NaN            NaN         NaN  \n",
              "160             NaN            NaN         NaN  \n",
              "\n",
              "[161 rows x 9 columns]"
            ]
          },
          "metadata": {},
          "output_type": "display_data"
        }
      ],
      "source": [
        "hit_results = pd.read_csv(hit_logger.experiment.metrics_file_path)\n",
        "display(hit_results)"
      ]
    },
    {
      "cell_type": "markdown",
      "id": "55ab41db",
      "metadata": {
        "id": "55ab41db"
      },
      "source": [
        "Since we will produce similar plots in later examples, we write a\n",
        "simple generic function to produce this plot."
      ]
    },
    {
      "cell_type": "code",
      "execution_count": 82,
      "id": "ec25fa4e",
      "metadata": {
        "id": "ec25fa4e",
        "lines_to_next_cell": 0
      },
      "outputs": [],
      "source": [
        "def summary_plot(results,\n",
        "                 ax,\n",
        "                 col='loss',\n",
        "                 valid_legend='Validation',\n",
        "                 training_legend='Training',\n",
        "                 ylabel='Loss',\n",
        "                 fontsize=20):\n",
        "    for (column,\n",
        "         color,\n",
        "         label) in zip([f'train_{col}_epoch',\n",
        "                        f'valid_{col}'],\n",
        "                       ['black',\n",
        "                        'red'],\n",
        "                       [training_legend,\n",
        "                        valid_legend]):\n",
        "        results.plot(x='epoch',\n",
        "                     y=column,\n",
        "                     label=label,\n",
        "                     marker='o',\n",
        "                     color=color,\n",
        "                     ax=ax)\n",
        "    ax.set_xlabel('Epoch')\n",
        "    ax.set_ylabel(ylabel)\n",
        "    return ax"
      ]
    },
    {
      "cell_type": "markdown",
      "id": "89edbe2d",
      "metadata": {
        "id": "89edbe2d"
      },
      "source": [
        "We now set up our axes, and use our function to produce the MAE plot."
      ]
    },
    {
      "cell_type": "code",
      "execution_count": 88,
      "id": "73594a6c",
      "metadata": {
        "id": "73594a6c",
        "lines_to_next_cell": 2
      },
      "outputs": [
        {
          "data": {
            "text/plain": [
              "[<matplotlib.axis.XTick at 0x7f3725a7ae30>,\n",
              " <matplotlib.axis.XTick at 0x7f3725a7ae00>,\n",
              " <matplotlib.axis.XTick at 0x7f3725aa79a0>,\n",
              " <matplotlib.axis.XTick at 0x7f3725aa7760>,\n",
              " <matplotlib.axis.XTick at 0x7f3725aa7d90>,\n",
              " <matplotlib.axis.XTick at 0x7f3725ac9060>,\n",
              " <matplotlib.axis.XTick at 0x7f3725ac9840>,\n",
              " <matplotlib.axis.XTick at 0x7f3725aca020>,\n",
              " <matplotlib.axis.XTick at 0x7f3725a782e0>,\n",
              " <matplotlib.axis.XTick at 0x7f3725bdb4f0>,\n",
              " <matplotlib.axis.XTick at 0x7f3725acbc70>]"
            ]
          },
          "execution_count": 88,
          "metadata": {},
          "output_type": "execute_result"
        },
        {
          "data": {
            "image/png": "[encoded data removed]",
            "text/plain": [
              "<Figure size 600x600 with 1 Axes>"
            ]
          },
          "metadata": {},
          "output_type": "display_data"
        }
      ],
      "source": [
        "fig, ax = subplots(1, 1, figsize=(6, 6))\n",
        "ax = summary_plot(hit_results,\n",
        "                  ax,\n",
        "                  col='mae',\n",
        "                  ylabel='MAE',\n",
        "                  valid_legend='Validation (=Test)')\n",
        "ax.set_ylim([0, 400])\n",
        "ax.set_xticks(np.linspace(0, 50, 11).astype(int))"
      ]
    },
    {
      "cell_type": "markdown",
      "id": "33376f19",
      "metadata": {
        "id": "33376f19"
      },
      "source": [
        "We can predict directly from the final model, and\n",
        "evaluate its performance on the test data.\n",
        "Before fitting, we call the `eval()` method\n",
        "of `hit_model`.\n",
        "This tells\n",
        "`torch` to effectively consider this model to be fitted, so that\n",
        "we can use it to predict on new data. For our model here,\n",
        "the biggest change is that the dropout layers will\n",
        "be turned off, i.e. no weights will be randomly\n",
        "dropped in predicting on new data."
      ]
    },
    {
      "cell_type": "code",
      "execution_count": 89,
      "id": "6b2a88d4",
      "metadata": {
        "id": "6b2a88d4",
        "lines_to_next_cell": 0
      },
      "outputs": [
        {
          "data": {
            "text/plain": [
              "tensor(229.5012, grad_fn=<MeanBackward0>)"
            ]
          },
          "execution_count": 89,
          "metadata": {},
          "output_type": "execute_result"
        }
      ],
      "source": [
        "hit_model.eval()\n",
        "preds = hit_module(X_test_t)\n",
        "torch.abs(Y_test_t - preds).mean()"
      ]
    },
    {
      "cell_type": "markdown",
      "id": "30318631",
      "metadata": {
        "id": "30318631"
      },
      "source": [
        "    "
      ]
    },
    {
      "cell_type": "markdown",
      "id": "3ffae543",
      "metadata": {
        "id": "3ffae543"
      },
      "source": [
        "### Cleanup\n",
        "In setting up our data module, we had initiated\n",
        "several worker processes that will remain running.\n",
        "We delete all references to the torch objects to ensure these processes\n",
        "will be killed.\n"
      ]
    },
    {
      "cell_type": "code",
      "execution_count": 90,
      "id": "5f2b7011",
      "metadata": {
        "id": "5f2b7011",
        "lines_to_next_cell": 2
      },
      "outputs": [],
      "source": [
        "del(Hitters,\n",
        "    hit_model, hit_dm,\n",
        "    hit_logger,\n",
        "    hit_test, hit_train,\n",
        "    X, Y,\n",
        "    X_test, X_train,\n",
        "    Y_test, Y_train,\n",
        "    X_test_t, Y_test_t,\n",
        "    hit_trainer, hit_module)\n"
      ]
    },
    {
      "cell_type": "markdown",
      "id": "f1a9dc62",
      "metadata": {
        "id": "f1a9dc62"
      },
      "source": [
        "## Multilayer Network on the MNIST Digit Data\n",
        "The `torchvision` package comes with a number of example datasets,\n",
        "including the `MNIST`  digit data. Our first step is to retrieve\n",
        "the training and test data sets; the `MNIST()` function within\n",
        "`torchvision.datasets` is provided for this purpose. The\n",
        "data will be downloaded the first time this function is executed, and stored in the directory `data/MNIST`."
      ]
    },
    {
      "cell_type": "code",
      "execution_count": null,
      "id": "48bc629a",
      "metadata": {
        "id": "48bc629a"
      },
      "outputs": [],
      "source": [
        "(mnist_train,\n",
        " mnist_test) = [MNIST(root='data',\n",
        "                      train=train,\n",
        "                      download=True,\n",
        "                      transform=ToTensor())\n",
        "                for train in [True, False]]\n",
        "mnist_train\n"
      ]
    },
    {
      "cell_type": "markdown",
      "id": "bd95960f",
      "metadata": {
        "id": "bd95960f"
      },
      "source": [
        "There are 60,000 images in the training data and 10,000 in the test\n",
        "data. The images are $28\\times 28$, and stored as a matrix of pixels. We\n",
        "need to transform each one into a vector.\n",
        "\n",
        "Neural networks are somewhat sensitive to the scale of the inputs, much as ridge and\n",
        "lasso regularization are affected by scaling.  Here the inputs are eight-bit\n",
        "grayscale values between 0 and 255, so we rescale to the unit\n",
        "interval. {Note: eight bits means $2^8$, which equals 256. Since the convention\n",
        "is to start at $0$, the possible values  range from $0$ to $255$.}\n",
        "This transformation, along with some reordering\n",
        "of the axes, is performed by the `ToTensor()` transform\n",
        "from the `torchvision.transforms` package.\n",
        "\n",
        "As in our `Hitters` example, we form a data module\n",
        "from the training and test datasets, setting aside 20%\n",
        "of the training images for validation."
      ]
    },
    {
      "cell_type": "code",
      "execution_count": null,
      "id": "ed5990a6",
      "metadata": {
        "id": "ed5990a6"
      },
      "outputs": [],
      "source": [
        "mnist_dm = SimpleDataModule(mnist_train,\n",
        "                            mnist_test,\n",
        "                            validation=0.2,\n",
        "                            num_workers=max_num_workers,\n",
        "                            batch_size=256)\n"
      ]
    },
    {
      "cell_type": "markdown",
      "id": "f734a6fb",
      "metadata": {
        "id": "f734a6fb"
      },
      "source": [
        "Let’s take a look at the data that will get fed into our network. We loop through the first few\n",
        "chunks of the test dataset, breaking after 2 batches:"
      ]
    },
    {
      "cell_type": "code",
      "execution_count": null,
      "id": "eef728ee",
      "metadata": {
        "id": "eef728ee",
        "lines_to_next_cell": 2
      },
      "outputs": [],
      "source": [
        "for idx, (X_ ,Y_) in enumerate(mnist_dm.train_dataloader()):\n",
        "    print('X: ', X_.shape)\n",
        "    print('Y: ', Y_.shape)\n",
        "    if idx >= 1:\n",
        "        break\n"
      ]
    },
    {
      "cell_type": "markdown",
      "id": "b596f7cd",
      "metadata": {
        "id": "b596f7cd"
      },
      "source": [
        "We see that the $X$ for each batch consists of 256 images of size `1x28x28`.\n",
        "Here the `1` indicates a single channel (greyscale). For RGB images such as `CIFAR100` below,\n",
        "we will see that the `1` in the size will be replaced by `3` for the three RGB channels.\n",
        "\n",
        "Now we are ready to specify our neural network."
      ]
    },
    {
      "cell_type": "code",
      "execution_count": null,
      "id": "b5b33e69",
      "metadata": {
        "id": "b5b33e69"
      },
      "outputs": [],
      "source": [
        "class MNISTModel(nn.Module):\n",
        "    def __init__(self):\n",
        "        super(MNISTModel, self).__init__()\n",
        "        self.layer1 = nn.Sequential(\n",
        "            nn.Flatten(),\n",
        "            nn.Linear(28*28, 256),\n",
        "            nn.ReLU(),\n",
        "            nn.Dropout(0.4))\n",
        "        self.layer2 = nn.Sequential(\n",
        "            nn.Linear(256, 128),\n",
        "            nn.ReLU(),\n",
        "            nn.Dropout(0.3))\n",
        "        self._forward = nn.Sequential(\n",
        "            self.layer1,\n",
        "            self.layer2,\n",
        "            nn.Linear(128, 10))\n",
        "    def forward(self, x):\n",
        "        return self._forward(x)"
      ]
    },
    {
      "cell_type": "markdown",
      "id": "b104c09a",
      "metadata": {
        "id": "b104c09a"
      },
      "source": [
        "We see that in the first layer, each `1x28x28` image is flattened, then mapped to\n",
        "256 dimensions where we apply a ReLU activation with 40% dropout.\n",
        "A second layer maps the first layer’s output down to\n",
        "128 dimensions, applying a ReLU activation with 30% dropout. Finally,\n",
        "the 128 dimensions are mapped down to 10, the number of classes in the\n",
        "`MNIST`  data."
      ]
    },
    {
      "cell_type": "code",
      "execution_count": null,
      "id": "61f919db",
      "metadata": {
        "id": "61f919db"
      },
      "outputs": [],
      "source": [
        "mnist_model = MNISTModel()\n"
      ]
    },
    {
      "cell_type": "markdown",
      "id": "fc14d02c",
      "metadata": {
        "id": "fc14d02c"
      },
      "source": [
        "We can check that the model produces output of expected size based\n",
        "on our existing batch `X_` above."
      ]
    },
    {
      "cell_type": "code",
      "execution_count": null,
      "id": "c2a025dd",
      "metadata": {
        "id": "c2a025dd"
      },
      "outputs": [],
      "source": [
        "mnist_model(X_).size()"
      ]
    },
    {
      "cell_type": "markdown",
      "id": "8be19fe2",
      "metadata": {
        "id": "8be19fe2"
      },
      "source": [
        "Let’s take a look at the summary of the model. Instead of an `input_size` we can pass\n",
        "a tensor of correct shape. In this case, we pass through the final\n",
        "batched `X_` from above."
      ]
    },
    {
      "cell_type": "code",
      "execution_count": null,
      "id": "f5cc08d2",
      "metadata": {
        "id": "f5cc08d2"
      },
      "outputs": [],
      "source": [
        "summary(mnist_model,\n",
        "        input_data=X_,\n",
        "        col_names=['input_size',\n",
        "                   'output_size',\n",
        "                   'num_params'])"
      ]
    },
    {
      "cell_type": "markdown",
      "id": "135f8472",
      "metadata": {
        "id": "135f8472"
      },
      "source": [
        "Having set up both  the model and the data module, fitting this model is\n",
        "now almost identical to the `Hitters` example. In contrast to our regression model, here we will use the\n",
        "`SimpleModule.classification()` method which\n",
        "uses the  cross-entropy loss function instead of mean squared error. It must be supplied with the number of\n",
        "classes in the problem."
      ]
    },
    {
      "cell_type": "code",
      "execution_count": null,
      "id": "5d1c8aaa",
      "metadata": {
        "id": "5d1c8aaa"
      },
      "outputs": [],
      "source": [
        "mnist_module = SimpleModule.classification(mnist_model,\n",
        "                                           num_classes=10)\n",
        "mnist_logger = CSVLogger('logs', name='MNIST')\n"
      ]
    },
    {
      "cell_type": "markdown",
      "id": "be8c08a1",
      "metadata": {
        "id": "be8c08a1"
      },
      "source": [
        "Now we are ready to go. The final step is to supply training data, and fit the model."
      ]
    },
    {
      "cell_type": "code",
      "execution_count": null,
      "id": "6ae62c97",
      "metadata": {
        "id": "6ae62c97",
        "lines_to_next_cell": 0
      },
      "outputs": [],
      "source": [
        "mnist_trainer = Trainer(deterministic=True,\n",
        "                        max_epochs=30,\n",
        "                        logger=mnist_logger,\n",
        "                        callbacks=[ErrorTracker()])\n",
        "mnist_trainer.fit(mnist_module,\n",
        "                  datamodule=mnist_dm)\n"
      ]
    },
    {
      "cell_type": "markdown",
      "id": "a8e09221",
      "metadata": {
        "id": "a8e09221"
      },
      "source": [
        "We have suppressed the output here, which is a progress report on the\n",
        "fitting of the model, grouped by epoch. This is very useful, since on\n",
        "large datasets fitting can take time. Fitting this model took 245\n",
        "seconds on a MacBook Pro with an Apple M1 Pro chip with 10 cores and 16 GB of RAM.\n",
        "Here we specified a\n",
        "validation split of 20%, so training is actually performed on\n",
        "80% of the 60,000 observations in the training set. This is an\n",
        "alternative to actually supplying validation data, like we did for the `Hitters` data.\n",
        "SGD  uses batches\n",
        "of 256 observations in computing the gradient, and doing the\n",
        "arithmetic, we see that an epoch corresponds to 188 gradient steps."
      ]
    },
    {
      "cell_type": "markdown",
      "id": "bd3d052a",
      "metadata": {
        "id": "bd3d052a"
      },
      "source": [
        "`SimpleModule.classification()` includes\n",
        "an accuracy metric by default. Other\n",
        "classification metrics can be added from `torchmetrics`.\n",
        "We will use  our `summary_plot()` function to display\n",
        "accuracy across epochs."
      ]
    },
    {
      "cell_type": "code",
      "execution_count": null,
      "id": "a44b6e2a",
      "metadata": {
        "id": "a44b6e2a",
        "lines_to_next_cell": 0
      },
      "outputs": [],
      "source": [
        "mnist_results = pd.read_csv(mnist_logger.experiment.metrics_file_path)\n",
        "fig, ax = subplots(1, 1, figsize=(6, 6))\n",
        "summary_plot(mnist_results,\n",
        "             ax,\n",
        "             col='accuracy',\n",
        "             ylabel='Accuracy')\n",
        "ax.set_ylim([0.5, 1])\n",
        "ax.set_ylabel('Accuracy')\n",
        "ax.set_xticks(np.linspace(0, 30, 7).astype(int));\n"
      ]
    },
    {
      "cell_type": "markdown",
      "id": "7cbfe2a6",
      "metadata": {
        "id": "7cbfe2a6"
      },
      "source": [
        "Once again we evaluate the accuracy using the `test()` method of our trainer. This model achieves\n",
        "97% accuracy on the test data."
      ]
    },
    {
      "cell_type": "code",
      "execution_count": null,
      "id": "4d5f5f12",
      "metadata": {
        "id": "4d5f5f12"
      },
      "outputs": [],
      "source": [
        "mnist_trainer.test(mnist_module,\n",
        "                   datamodule=mnist_dm)"
      ]
    },
    {
      "cell_type": "markdown",
      "id": "e4b8bf50",
      "metadata": {
        "id": "e4b8bf50"
      },
      "source": [
        "Table 10.1 also reports the error rates resulting from LDA (Chapter 4) and multiclass logistic\n",
        "regression. For LDA we refer the reader to Section 4.7.3.\n",
        "Although we could use the `sklearn` function `LogisticRegression()` to fit  \n",
        "multiclass logistic regression, we are set up here to fit such a model\n",
        "with `torch`.\n",
        "We just have an input layer and an output layer, and omit the hidden layers!"
      ]
    },
    {
      "cell_type": "code",
      "execution_count": null,
      "id": "e5671ae9",
      "metadata": {
        "id": "e5671ae9"
      },
      "outputs": [],
      "source": [
        "class MNIST_MLR(nn.Module):\n",
        "    def __init__(self):\n",
        "        super(MNIST_MLR, self).__init__()\n",
        "        self.linear = nn.Sequential(nn.Flatten(),\n",
        "                                    nn.Linear(784, 10))\n",
        "    def forward(self, x):\n",
        "        return self.linear(x)\n",
        "\n",
        "mlr_model = MNIST_MLR()\n",
        "mlr_module = SimpleModule.classification(mlr_model,\n",
        "                                         num_classes=10)\n",
        "mlr_logger = CSVLogger('logs', name='MNIST_MLR')"
      ]
    },
    {
      "cell_type": "code",
      "execution_count": null,
      "id": "a23e2901",
      "metadata": {
        "id": "a23e2901",
        "lines_to_next_cell": 0
      },
      "outputs": [],
      "source": [
        "mlr_trainer = Trainer(deterministic=True,\n",
        "                      max_epochs=30,\n",
        "                      callbacks=[ErrorTracker()])\n",
        "mlr_trainer.fit(mlr_module, datamodule=mnist_dm)"
      ]
    },
    {
      "cell_type": "markdown",
      "id": "884f093f",
      "metadata": {
        "id": "884f093f"
      },
      "source": [
        "We fit the model just as before and compute the test results."
      ]
    },
    {
      "cell_type": "code",
      "execution_count": null,
      "id": "ed74a18f",
      "metadata": {
        "id": "ed74a18f",
        "lines_to_next_cell": 0
      },
      "outputs": [],
      "source": [
        "mlr_trainer.test(mlr_module,\n",
        "                 datamodule=mnist_dm)"
      ]
    },
    {
      "cell_type": "markdown",
      "id": "377ad7e3",
      "metadata": {
        "id": "377ad7e3"
      },
      "source": [
        "The accuracy is above 90% even for this pretty simple model.\n",
        "\n",
        "As in the `Hitters` example, we delete some of\n",
        "the objects we created above."
      ]
    },
    {
      "cell_type": "code",
      "execution_count": null,
      "id": "eb0a9b7c",
      "metadata": {
        "id": "eb0a9b7c",
        "lines_to_next_cell": 2
      },
      "outputs": [],
      "source": [
        "del(mnist_test,\n",
        "    mnist_train,\n",
        "    mnist_model,\n",
        "    mnist_dm,\n",
        "    mnist_trainer,\n",
        "    mnist_module,\n",
        "    mnist_results,\n",
        "    mlr_model,\n",
        "    mlr_module,\n",
        "    mlr_trainer)"
      ]
    },
    {
      "cell_type": "markdown",
      "id": "6a4d8f68",
      "metadata": {
        "id": "6a4d8f68"
      },
      "source": [
        "## Convolutional Neural Networks\n",
        "In this section we fit a CNN to the `CIFAR100` data, which is available in the `torchvision`\n",
        "package. It is arranged in a similar fashion as the `MNIST` data."
      ]
    },
    {
      "cell_type": "code",
      "execution_count": null,
      "id": "b6b59dc9",
      "metadata": {
        "id": "b6b59dc9"
      },
      "outputs": [],
      "source": [
        "(cifar_train,\n",
        " cifar_test) = [CIFAR100(root=\"data\",\n",
        "                         train=train,\n",
        "                         download=True)\n",
        "             for train in [True, False]]"
      ]
    },
    {
      "cell_type": "code",
      "execution_count": null,
      "id": "96cc5b81",
      "metadata": {
        "id": "96cc5b81"
      },
      "outputs": [],
      "source": [
        "transform = ToTensor()\n",
        "cifar_train_X = torch.stack([transform(x) for x in\n",
        "                            cifar_train.data])\n",
        "cifar_test_X = torch.stack([transform(x) for x in\n",
        "                            cifar_test.data])\n",
        "cifar_train = TensorDataset(cifar_train_X,\n",
        "                            torch.tensor(cifar_train.targets))\n",
        "cifar_test = TensorDataset(cifar_test_X,\n",
        "                            torch.tensor(cifar_test.targets))"
      ]
    },
    {
      "cell_type": "markdown",
      "id": "90fcaef5",
      "metadata": {
        "id": "90fcaef5"
      },
      "source": [
        "The `CIFAR100` dataset consists of 50,000 training images, each represented by a three-dimensional tensor:\n",
        "each three-color image is represented as a set of three channels, each of which consists of\n",
        "$32\\times 32$ eight-bit pixels. We standardize as we did for the\n",
        "digits, but keep the array structure. This is accomplished with the `ToTensor()` transform.\n",
        "\n",
        "Creating the data module is similar to the `MNIST`  example."
      ]
    },
    {
      "cell_type": "code",
      "execution_count": null,
      "id": "d32468ad",
      "metadata": {
        "id": "d32468ad",
        "lines_to_next_cell": 0
      },
      "outputs": [],
      "source": [
        "cifar_dm = SimpleDataModule(cifar_train,\n",
        "                            cifar_test,\n",
        "                            validation=0.2,\n",
        "                            num_workers=max_num_workers,\n",
        "                            batch_size=128)\n"
      ]
    },
    {
      "cell_type": "markdown",
      "id": "04b4f304",
      "metadata": {
        "id": "04b4f304"
      },
      "source": [
        "We again look at the shape of typical batches in our data loaders."
      ]
    },
    {
      "cell_type": "code",
      "execution_count": null,
      "id": "e6894a25",
      "metadata": {
        "id": "e6894a25",
        "lines_to_next_cell": 2
      },
      "outputs": [],
      "source": [
        "for idx, (X_ ,Y_) in enumerate(cifar_dm.train_dataloader()):\n",
        "    print('X: ', X_.shape)\n",
        "    print('Y: ', Y_.shape)\n",
        "    if idx >= 1:\n",
        "        break\n"
      ]
    },
    {
      "cell_type": "markdown",
      "id": "ca410e56",
      "metadata": {
        "id": "ca410e56"
      },
      "source": [
        "Before we start, we look at some of the training images; similar code produced\n",
        "Figure 10.5 on page  406. The example below also illustrates\n",
        "that `TensorDataset` objects can be indexed with integers --- we are choosing\n",
        "random images from the training data by indexing `cifar_train`. In order to display correctly,\n",
        "we must reorder the dimensions by a call to `np.transpose()`."
      ]
    },
    {
      "cell_type": "code",
      "execution_count": null,
      "id": "6d02e07d",
      "metadata": {
        "id": "6d02e07d",
        "lines_to_next_cell": 0
      },
      "outputs": [],
      "source": [
        "fig, axes = subplots(5, 5, figsize=(10,10))\n",
        "rng = np.random.default_rng(4)\n",
        "indices = rng.choice(np.arange(len(cifar_train)), 25,\n",
        "                     replace=False).reshape((5,5))\n",
        "for i in range(5):\n",
        "    for j in range(5):\n",
        "        idx = indices[i,j]\n",
        "        axes[i,j].imshow(np.transpose(cifar_train[idx][0],\n",
        "                                      [1,2,0]),\n",
        "                                      interpolation=None)\n",
        "        axes[i,j].set_xticks([])\n",
        "        axes[i,j].set_yticks([])\n"
      ]
    },
    {
      "cell_type": "markdown",
      "id": "2fcf64b3",
      "metadata": {
        "id": "2fcf64b3"
      },
      "source": [
        "Here the `imshow()` method recognizes from the shape of its argument that it is a 3-dimensional array, with the last dimension indexing the three RGB color channels.\n",
        "\n",
        "We specify a moderately-sized  CNN for\n",
        "demonstration purposes, similar in structure to Figure 10.8.\n",
        "We use several layers, each consisting of  convolution, ReLU, and max-pooling steps.\n",
        "We first define a module that defines one of these layers. As in our\n",
        "previous examples, we overwrite the `__init__()` and `forward()` methods\n",
        "of `nn.Module`. This user-defined  module can now be used in ways just like\n",
        "`nn.Linear()` or `nn.Dropout()`."
      ]
    },
    {
      "cell_type": "code",
      "execution_count": null,
      "id": "1a48403c",
      "metadata": {
        "id": "1a48403c"
      },
      "outputs": [],
      "source": [
        "class BuildingBlock(nn.Module):\n",
        "\n",
        "    def __init__(self,\n",
        "                 in_channels,\n",
        "                 out_channels):\n",
        "\n",
        "        super(BuildingBlock, self).__init__()\n",
        "        self.conv = nn.Conv2d(in_channels=in_channels,\n",
        "                              out_channels=out_channels,\n",
        "                              kernel_size=(3,3),\n",
        "                              padding='same')\n",
        "        self.activation = nn.ReLU()\n",
        "        self.pool = nn.MaxPool2d(kernel_size=(2,2))\n",
        "\n",
        "    def forward(self, x):\n",
        "        return self.pool(self.activation(self.conv(x)))\n"
      ]
    },
    {
      "cell_type": "markdown",
      "id": "fa812f56",
      "metadata": {
        "id": "fa812f56"
      },
      "source": [
        "Notice that we used the `padding = \"same\"` argument to\n",
        "`nn.Conv2d()`, which ensures that the output channels have the\n",
        "same dimension as the input channels. There are 32 channels in the first\n",
        "hidden layer, in contrast to the three channels in the input layer. We\n",
        "use a $3\\times 3$ convolution filter for each channel in all the layers. Each\n",
        "convolution is followed by a max-pooling layer over $2\\times2$\n",
        "blocks.\n",
        "\n",
        "In forming our deep learning model for the `CIFAR100` data, we use several of our `BuildingBlock()`\n",
        "modules sequentially. This simple example\n",
        "illustrates some of the power of `torch`. Users can\n",
        "define modules of their own, which can be combined in other\n",
        "modules. Ultimately, everything is fit by a generic trainer."
      ]
    },
    {
      "cell_type": "code",
      "execution_count": null,
      "id": "d72cc6f0",
      "metadata": {
        "id": "d72cc6f0"
      },
      "outputs": [],
      "source": [
        "class CIFARModel(nn.Module):\n",
        "\n",
        "    def __init__(self):\n",
        "        super(CIFARModel, self).__init__()\n",
        "        sizes = [(3,32),\n",
        "                 (32,64),\n",
        "                 (64,128),\n",
        "                 (128,256)]\n",
        "        self.conv = nn.Sequential(*[BuildingBlock(in_, out_)\n",
        "                                    for in_, out_ in sizes])\n",
        "\n",
        "        self.output = nn.Sequential(nn.Dropout(0.5),\n",
        "                                    nn.Linear(2*2*256, 512),\n",
        "                                    nn.ReLU(),\n",
        "                                    nn.Linear(512, 100))\n",
        "    def forward(self, x):\n",
        "        val = self.conv(x)\n",
        "        val = torch.flatten(val, start_dim=1)\n",
        "        return self.output(val)\n"
      ]
    },
    {
      "cell_type": "markdown",
      "id": "e38608dc",
      "metadata": {
        "id": "e38608dc"
      },
      "source": [
        "We  build the model and look at the summary. (We had created examples of `X_` earlier.)"
      ]
    },
    {
      "cell_type": "code",
      "execution_count": null,
      "id": "7617292c",
      "metadata": {
        "id": "7617292c",
        "lines_to_next_cell": 2
      },
      "outputs": [],
      "source": [
        "cifar_model = CIFARModel()\n",
        "summary(cifar_model,\n",
        "        input_data=X_,\n",
        "        col_names=['input_size',\n",
        "                   'output_size',\n",
        "                   'num_params'])"
      ]
    },
    {
      "cell_type": "markdown",
      "id": "9fb3e638",
      "metadata": {
        "id": "9fb3e638"
      },
      "source": [
        "The total number of trainable parameters is 964,516.\n",
        "By studying the size of the parameters, we can see that the channels halve in both\n",
        "dimensions\n",
        "after each of these max-pooling operations. After the last of these we\n",
        "have a layer with  256 channels of dimension $2\\times 2$. These are then\n",
        "flattened to a dense layer of size 1,024;\n",
        "in other words, each of the $2\\times 2$ matrices is turned into a\n",
        "$4$-vector, and put side-by-side in one layer. This is followed by a\n",
        "dropout regularization layer,  then\n",
        "another dense layer of size 512, and finally, the\n",
        "output layer.\n",
        "\n",
        "Up to now, we have been using a default\n",
        "optimizer in `SimpleModule()`. For these data,\n",
        "experiments show that a smaller learning rate performs\n",
        "better than the default 0.01. We use a\n",
        "custom optimizer here with a learning rate of 0.001.\n",
        "Besides this, the logging and training\n",
        "follow a similar pattern to our previous examples. The optimizer\n",
        "takes an argument `params` that informs\n",
        "the optimizer which parameters are involved in SGD (stochastic gradient descent).\n",
        "\n",
        "We saw earlier that entries of a module’s parameters are tensors. In passing\n",
        "the parameters to the optimizer we are doing more than\n",
        "simply passing arrays; part of the structure of the graph\n",
        "is encoded in the tensors themselves."
      ]
    },
    {
      "cell_type": "code",
      "execution_count": null,
      "id": "f07871fb",
      "metadata": {
        "id": "f07871fb"
      },
      "outputs": [],
      "source": [
        "cifar_optimizer = RMSprop(cifar_model.parameters(), lr=0.001)\n",
        "cifar_module = SimpleModule.classification(cifar_model,\n",
        "                                    num_classes=100,\n",
        "                                    optimizer=cifar_optimizer)\n",
        "cifar_logger = CSVLogger('logs', name='CIFAR100')\n"
      ]
    },
    {
      "cell_type": "code",
      "execution_count": null,
      "id": "a1541fe1",
      "metadata": {
        "id": "a1541fe1"
      },
      "outputs": [],
      "source": [
        "cifar_trainer = Trainer(deterministic=True,\n",
        "                        max_epochs=30,\n",
        "                        logger=cifar_logger,\n",
        "                        callbacks=[ErrorTracker()])\n",
        "cifar_trainer.fit(cifar_module,\n",
        "                  datamodule=cifar_dm)\n"
      ]
    },
    {
      "cell_type": "markdown",
      "id": "68da5b69",
      "metadata": {
        "id": "68da5b69"
      },
      "source": [
        "This model can take 10 minutes or more to run and achieves about 42% accuracy on the test\n",
        "data. Although this is not terrible for 100-class data (a random\n",
        "classifier gets 1% accuracy), searching the web we see results around\n",
        "75%. Typically it takes a lot of architecture carpentry,\n",
        "fiddling with regularization, and time, to achieve such results.\n",
        "\n",
        "Let’s take a look at the validation and training accuracy\n",
        "across epochs."
      ]
    },
    {
      "cell_type": "code",
      "execution_count": null,
      "id": "762509e2",
      "metadata": {
        "id": "762509e2",
        "lines_to_next_cell": 0
      },
      "outputs": [],
      "source": [
        "log_path = cifar_logger.experiment.metrics_file_path\n",
        "cifar_results = pd.read_csv(log_path)\n",
        "fig, ax = subplots(1, 1, figsize=(6, 6))\n",
        "summary_plot(cifar_results,\n",
        "             ax,\n",
        "             col='accuracy',\n",
        "             ylabel='Accuracy')\n",
        "ax.set_xticks(np.linspace(0, 10, 6).astype(int))\n",
        "ax.set_ylabel('Accuracy')\n",
        "ax.set_ylim([0, 1]);"
      ]
    },
    {
      "cell_type": "markdown",
      "id": "18fd032e",
      "metadata": {
        "id": "18fd032e"
      },
      "source": [
        "Finally, we evaluate our model on our test data."
      ]
    },
    {
      "cell_type": "code",
      "execution_count": null,
      "id": "e3fa0dbe",
      "metadata": {
        "id": "e3fa0dbe",
        "lines_to_next_cell": 2
      },
      "outputs": [],
      "source": [
        "cifar_trainer.test(cifar_module,\n",
        "                   datamodule=cifar_dm)\n"
      ]
    },
    {
      "cell_type": "markdown",
      "id": "ff9ea96a",
      "metadata": {
        "id": "ff9ea96a"
      },
      "source": [
        "### Hardware Acceleration\n",
        "As deep learning has become ubiquitous in machine learning, hardware\n",
        "manufacturers have produced special libraries that can\n",
        "often speed up the gradient-descent steps.\n",
        "\n",
        "For instance, Mac OS devices with the M1 chip may have the *Metal* programming framework\n",
        "enabled, which can speed up the  `torch`\n",
        "computations. We present an example of how to use this acceleration.\n",
        "\n",
        "The main changes are to the `Trainer()` call as well as to the metrics\n",
        "that will be evaluated on the data. These metrics must be told  where\n",
        "the data will be located at evaluation time. This is\n",
        "accomplished with a call to the `to()` method of the metrics."
      ]
    },
    {
      "cell_type": "code",
      "execution_count": null,
      "id": "b5ab7104",
      "metadata": {
        "id": "b5ab7104",
        "lines_to_next_cell": 0
      },
      "outputs": [],
      "source": [
        "try:\n",
        "    for name, metric in cifar_module.metrics.items():\n",
        "        cifar_module.metrics[name] = metric.to('mps')\n",
        "    cifar_trainer_mps = Trainer(accelerator='mps',\n",
        "                                deterministic=True,\n",
        "                                max_epochs=30)\n",
        "    cifar_trainer_mps.fit(cifar_module,\n",
        "                          datamodule=cifar_dm)\n",
        "    cifar_trainer_mps.test(cifar_module,\n",
        "                          datamodule=cifar_dm)\n",
        "except:\n",
        "    pass"
      ]
    },
    {
      "cell_type": "markdown",
      "id": "e8ae730c",
      "metadata": {
        "id": "e8ae730c"
      },
      "source": [
        "This yields approximately two- or three-fold  acceleration for each epoch.\n",
        "We have protected this code block using `try:` and `except:`\n",
        "clauses; if it works, we get the speedup, if it fails, nothing happens."
      ]
    },
    {
      "cell_type": "markdown",
      "id": "e8f4c41a",
      "metadata": {
        "id": "e8f4c41a"
      },
      "source": [
        "## Using Pretrained CNN Models\n",
        "We now show how to use a CNN pretrained on the  `imagenet` database to classify natural\n",
        "images, and demonstrate how we produced Figure 10.10.\n",
        "We copied six JPEG images from a digital photo album into the\n",
        "directory `book_images`. These images are available\n",
        "from the data section of  <www.statlearning.com>, the ISLP book website. Download `book_images.zip`; when\n",
        "clicked it creates the `book_images` directory.\n",
        "\n",
        "The pretrained network we use is called `resnet50`; specification details can be found on the web.\n",
        "We will read in the images, and\n",
        "convert them into the array format expected by the `torch`\n",
        "software to match the specifications in `resnet50`.\n",
        "The conversion involves a resize, a crop and then a predefined standardization for each of the three channels.\n",
        "We now read in the images and preprocess them."
      ]
    },
    {
      "cell_type": "code",
      "execution_count": null,
      "id": "13e1142b",
      "metadata": {
        "id": "13e1142b",
        "lines_to_next_cell": 2
      },
      "outputs": [],
      "source": [
        "resize = Resize((232,232), antialias=True)\n",
        "crop = CenterCrop(224)\n",
        "normalize = Normalize([0.485,0.456,0.406],\n",
        "                      [0.229,0.224,0.225])\n",
        "imgfiles = sorted([f for f in glob('book_images/*')])\n",
        "imgs = torch.stack([torch.div(crop(resize(read_image(f))), 255)\n",
        "                    for f in imgfiles])\n",
        "imgs = normalize(imgs)\n",
        "imgs.size()"
      ]
    },
    {
      "cell_type": "markdown",
      "id": "1205db56",
      "metadata": {
        "id": "1205db56"
      },
      "source": [
        "We now set up the trained network with the weights we read in code block~6. The model has 50 layers, with a fair bit of complexity."
      ]
    },
    {
      "cell_type": "code",
      "execution_count": null,
      "id": "e1b20c85",
      "metadata": {
        "id": "e1b20c85",
        "lines_to_next_cell": 0
      },
      "outputs": [],
      "source": [
        "resnet_model = resnet50(weights=ResNet50_Weights.DEFAULT)\n",
        "summary(resnet_model,\n",
        "        input_data=imgs,\n",
        "        col_names=['input_size',\n",
        "                   'output_size',\n",
        "                   'num_params'])\n"
      ]
    },
    {
      "cell_type": "markdown",
      "id": "6110b39b",
      "metadata": {
        "id": "6110b39b"
      },
      "source": [
        "We set the mode to `eval()` to ensure that the model is ready to predict on new data."
      ]
    },
    {
      "cell_type": "code",
      "execution_count": null,
      "id": "8151bbfb",
      "metadata": {
        "id": "8151bbfb",
        "lines_to_next_cell": 0
      },
      "outputs": [],
      "source": [
        "resnet_model.eval()"
      ]
    },
    {
      "cell_type": "markdown",
      "id": "c9a22edc",
      "metadata": {
        "id": "c9a22edc"
      },
      "source": [
        "Inspecting the output above, we see that when setting up the\n",
        "`resnet_model`, the authors defined a `Bottleneck`, much like our\n",
        "`BuildingBlock` module.\n",
        "\n",
        "We now feed our six images through the fitted network."
      ]
    },
    {
      "cell_type": "code",
      "execution_count": null,
      "id": "4e7ab2f6",
      "metadata": {
        "id": "4e7ab2f6"
      },
      "outputs": [],
      "source": [
        "img_preds = resnet_model(imgs)\n"
      ]
    },
    {
      "cell_type": "markdown",
      "id": "f846f3b6",
      "metadata": {
        "id": "f846f3b6"
      },
      "source": [
        "Let’s look at the predicted probabilities for each of the top 3 choices. First we compute\n",
        "the probabilities by applying the softmax to the logits in `img_preds`. Note that\n",
        "we have had to call the `detach()` method on the tensor `img_preds` in order to convert\n",
        "it to our a more familiar `ndarray`."
      ]
    },
    {
      "cell_type": "code",
      "execution_count": null,
      "id": "cbc70a8c",
      "metadata": {
        "id": "cbc70a8c"
      },
      "outputs": [],
      "source": [
        "img_probs = np.exp(np.asarray(img_preds.detach()))\n",
        "img_probs /= img_probs.sum(1)[:,None]\n"
      ]
    },
    {
      "cell_type": "markdown",
      "id": "93c89b24",
      "metadata": {
        "id": "93c89b24"
      },
      "source": [
        "In order to see the class labels, we must download the index file associated with `imagenet`. {This is avalable from the book website and  [s3.amazonaws.com/deep-learning-models/image-models/imagenet_class_index.json](https://s3.amazonaws.com/deep-learning-models/image-models/imagenet_class_index.json).}"
      ]
    },
    {
      "cell_type": "code",
      "execution_count": null,
      "id": "2c2c944a",
      "metadata": {
        "id": "2c2c944a"
      },
      "outputs": [],
      "source": [
        "labs = json.load(open('imagenet_class_index.json'))\n",
        "class_labels = pd.DataFrame([(int(k), v[1]) for k, v in\n",
        "                           labs.items()],\n",
        "                           columns=['idx', 'label'])\n",
        "class_labels = class_labels.set_index('idx')\n",
        "class_labels = class_labels.sort_index()\n"
      ]
    },
    {
      "cell_type": "markdown",
      "id": "b002ed28",
      "metadata": {
        "id": "b002ed28"
      },
      "source": [
        "We’ll now construct a data frame for each image file\n",
        "with the labels with the three highest probabilities as\n",
        "estimated by the model above."
      ]
    },
    {
      "cell_type": "code",
      "execution_count": null,
      "id": "55109a93",
      "metadata": {
        "id": "55109a93",
        "lines_to_next_cell": 2
      },
      "outputs": [],
      "source": [
        "for i, imgfile in enumerate(imgfiles):\n",
        "    img_df = class_labels.copy()\n",
        "    img_df['prob'] = img_probs[i]\n",
        "    img_df = img_df.sort_values(by='prob', ascending=False)[:3]\n",
        "    print(f'Image: {imgfile}')\n",
        "    print(img_df.reset_index().drop(columns=['idx']))\n"
      ]
    },
    {
      "cell_type": "markdown",
      "id": "af5e72ea",
      "metadata": {
        "id": "af5e72ea"
      },
      "source": [
        "We see that the model\n",
        "is quite confident about `Flamingo.jpg`, but a little less so for the\n",
        "other images.\n",
        "\n",
        "We end this section with our usual cleanup."
      ]
    },
    {
      "cell_type": "code",
      "execution_count": null,
      "id": "d522aa4b",
      "metadata": {
        "id": "d522aa4b",
        "lines_to_next_cell": 2
      },
      "outputs": [],
      "source": [
        "del(cifar_test,\n",
        "    cifar_train,\n",
        "    cifar_dm,\n",
        "    cifar_module,\n",
        "    cifar_logger,\n",
        "    cifar_optimizer,\n",
        "    cifar_trainer)"
      ]
    },
    {
      "cell_type": "markdown",
      "id": "9f314168",
      "metadata": {
        "id": "9f314168"
      },
      "source": [
        "## IMDB Document Classification\n",
        "We now implement models for sentiment classification (Section 10.4)  on the `IMDB`\n",
        "dataset. As mentioned above code block~8, we are using\n",
        "a preprocessed version of the `IMDB` dataset found in the\n",
        "`keras` package. As `keras` uses `tensorflow`, a different\n",
        "tensor and deep learning library, we have\n",
        "converted the data to be suitable for `torch`. The\n",
        "code used to convert from `keras` is\n",
        "available in the module `ISLP.torch._make_imdb`. It\n",
        "requires some of the `keras` packages to run. These data use a dictionary of size 10,000.\n",
        "\n",
        "We have stored three different representations of the review data for this lab:\n",
        "\n",
        "* `load_tensor()`, a sparse tensor version usable by `torch`;\n",
        "* `load_sparse()`, a sparse matrix version usable by `sklearn`, since we will compare with a lasso fit;\n",
        "* `load_sequential()`, a padded\n",
        "version of the original sequence representation, limited to the last\n",
        "500 words of each review.\n",
        "\n"
      ]
    },
    {
      "cell_type": "code",
      "execution_count": null,
      "id": "d53facf3",
      "metadata": {
        "id": "d53facf3",
        "lines_to_next_cell": 0
      },
      "outputs": [],
      "source": [
        "(imdb_seq_train,\n",
        " imdb_seq_test) = load_sequential(root='data/IMDB')\n",
        "padded_sample = np.asarray(imdb_seq_train.tensors[0][0])\n",
        "sample_review = padded_sample[padded_sample > 0][:12]\n",
        "sample_review[:12]\n"
      ]
    },
    {
      "cell_type": "markdown",
      "id": "cf3dc365",
      "metadata": {
        "id": "cf3dc365"
      },
      "source": [
        "The datasets `imdb_seq_train` and `imdb_seq_test` are\n",
        "both instances of the class `TensorDataset`. The\n",
        "tensors used to construct them can be found in the `tensors` attribute, with\n",
        "the first tensor  the features `X` and the second  the outcome `Y`.\n",
        "We have taken the first row of features and stored it as `padded_sample`. In the preprocessing\n",
        "used to form these data, sequences were padded with 0s in the beginning if they were\n",
        "not long enough, hence we remove this padding by restricting to entries where\n",
        "`padded_sample > 0`. We then provide the first 12 words of the sample review.\n",
        "\n",
        "We can find these words in the `lookup` dictionary from the `ISLP.torch.imdb` module."
      ]
    },
    {
      "cell_type": "code",
      "execution_count": null,
      "id": "0ea1acd0",
      "metadata": {
        "id": "0ea1acd0"
      },
      "outputs": [],
      "source": [
        "lookup = load_lookup(root='data/IMDB')\n",
        "' '.join(lookup[i] for i in sample_review)"
      ]
    },
    {
      "cell_type": "markdown",
      "id": "63d3997a",
      "metadata": {
        "id": "63d3997a"
      },
      "source": [
        "For our first model, we have created a binary feature for each\n",
        "of the 10,000 possible words in the dataset, with an entry of one\n",
        "in the $i,j$ entry if word $j$ appears in review $i$. As most reviews\n",
        "are quite short, such a feature matrix has over 98% zeros. These data\n",
        "are accessed using `load_tensor()` from the `ISLP` library."
      ]
    },
    {
      "cell_type": "code",
      "execution_count": null,
      "id": "19fb4313",
      "metadata": {
        "id": "19fb4313",
        "lines_to_next_cell": 0
      },
      "outputs": [],
      "source": [
        "max_num_workers=10\n",
        "(imdb_train,\n",
        " imdb_test) = load_tensor(root='data/IMDB')\n",
        "imdb_dm = SimpleDataModule(imdb_train,\n",
        "                           imdb_test,\n",
        "                           validation=2000,\n",
        "                           num_workers=min(6, max_num_workers),\n",
        "                           batch_size=512)\n"
      ]
    },
    {
      "cell_type": "markdown",
      "id": "33217683",
      "metadata": {
        "id": "33217683"
      },
      "source": [
        "We’ll use a two-layer model for our first model."
      ]
    },
    {
      "cell_type": "code",
      "execution_count": null,
      "id": "d07740ac",
      "metadata": {
        "id": "d07740ac",
        "lines_to_next_cell": 0
      },
      "outputs": [],
      "source": [
        "class IMDBModel(nn.Module):\n",
        "\n",
        "    def __init__(self, input_size):\n",
        "        super(IMDBModel, self).__init__()\n",
        "        self.dense1 = nn.Linear(input_size, 16)\n",
        "        self.activation = nn.ReLU()\n",
        "        self.dense2 = nn.Linear(16, 16)\n",
        "        self.output = nn.Linear(16, 1)\n",
        "\n",
        "    def forward(self, x):\n",
        "        val = x\n",
        "        for _map in [self.dense1,\n",
        "                     self.activation,\n",
        "                     self.dense2,\n",
        "                     self.activation,\n",
        "                     self.output]:\n",
        "            val = _map(val)\n",
        "        return torch.flatten(val)\n"
      ]
    },
    {
      "cell_type": "markdown",
      "id": "fe40922b",
      "metadata": {
        "id": "fe40922b"
      },
      "source": [
        "We now instantiate our model and look at a summary."
      ]
    },
    {
      "cell_type": "code",
      "execution_count": null,
      "id": "6dac7a1a",
      "metadata": {
        "id": "6dac7a1a"
      },
      "outputs": [],
      "source": [
        "imdb_model = IMDBModel(imdb_test.tensors[0].size()[1])\n",
        "summary(imdb_model,\n",
        "        input_size=imdb_test.tensors[0].size(),\n",
        "        col_names=['input_size',\n",
        "                   'output_size',\n",
        "                   'num_params'])\n"
      ]
    },
    {
      "cell_type": "markdown",
      "id": "4df7ce47",
      "metadata": {
        "id": "4df7ce47"
      },
      "source": [
        "We’ll again use\n",
        "a smaller learning rate for these data,\n",
        "hence we pass an `optimizer` to the\n",
        "`SimpleModule`.\n",
        "Since the reviews are classified into\n",
        "positive or negative sentiment, we use\n",
        "`SimpleModule.binary_classification()`. {Our use of\n",
        "  `binary_classification()` instead of  `classification()` is\n",
        "  due to some subtlety in how `torchmetrics.Accuracy()` works,\n",
        "as well as the data type of the targets.}"
      ]
    },
    {
      "cell_type": "code",
      "execution_count": null,
      "id": "b8368753",
      "metadata": {
        "id": "b8368753"
      },
      "outputs": [],
      "source": [
        "imdb_optimizer = RMSprop(imdb_model.parameters(), lr=0.001)\n",
        "imdb_module = SimpleModule.binary_classification(\n",
        "                         imdb_model,\n",
        "                         optimizer=imdb_optimizer)\n"
      ]
    },
    {
      "cell_type": "markdown",
      "id": "e1b05702",
      "metadata": {
        "id": "e1b05702"
      },
      "source": [
        "Having loaded the datasets into a data module\n",
        "and created a `SimpleModule`, the remaining steps\n",
        "are familiar."
      ]
    },
    {
      "cell_type": "code",
      "execution_count": null,
      "id": "e699820c",
      "metadata": {
        "id": "e699820c"
      },
      "outputs": [],
      "source": [
        "imdb_logger = CSVLogger('logs', name='IMDB')\n",
        "imdb_trainer = Trainer(deterministic=True,\n",
        "                       max_epochs=30,\n",
        "                       logger=imdb_logger,\n",
        "                       callbacks=[ErrorTracker()])\n",
        "imdb_trainer.fit(imdb_module,\n",
        "                 datamodule=imdb_dm)"
      ]
    },
    {
      "cell_type": "markdown",
      "id": "f22f6d2a",
      "metadata": {
        "id": "f22f6d2a"
      },
      "source": [
        "Evaluating the test error yields roughly 86% accuracy."
      ]
    },
    {
      "cell_type": "code",
      "execution_count": null,
      "id": "1aa09d1d",
      "metadata": {
        "id": "1aa09d1d",
        "lines_to_next_cell": 2
      },
      "outputs": [],
      "source": [
        "test_results = imdb_trainer.test(imdb_module, datamodule=imdb_dm)\n",
        "test_results"
      ]
    },
    {
      "cell_type": "markdown",
      "id": "434c482c",
      "metadata": {
        "id": "434c482c"
      },
      "source": [
        "### Comparison to Lasso\n",
        "We now fit a lasso logistic regression model\n",
        " using `LogisticRegression()` from `sklearn`. Since `sklearn` does not recognize\n",
        "the sparse tensors of `torch`, we use a sparse\n",
        "matrix that is recognized by `sklearn.`"
      ]
    },
    {
      "cell_type": "code",
      "execution_count": null,
      "id": "6ca0f24a",
      "metadata": {
        "id": "6ca0f24a"
      },
      "outputs": [],
      "source": [
        "((X_train, Y_train),\n",
        " (X_valid, Y_valid),\n",
        " (X_test, Y_test)) = load_sparse(validation=2000,\n",
        "                                 random_state=0,\n",
        "                                 root='data/IMDB')\n"
      ]
    },
    {
      "cell_type": "markdown",
      "id": "0912454e",
      "metadata": {
        "id": "0912454e"
      },
      "source": [
        "Similar to what we did in\n",
        "Section 10.9.1,\n",
        "we construct a series of 50 values for the lasso reguralization parameter $\\lambda$."
      ]
    },
    {
      "cell_type": "code",
      "execution_count": null,
      "id": "24fa47c1",
      "metadata": {
        "id": "24fa47c1",
        "lines_to_next_cell": 0
      },
      "outputs": [],
      "source": [
        "lam_max = np.abs(X_train.T * (Y_train - Y_train.mean())).max()\n",
        "lam_val = lam_max * np.exp(np.linspace(np.log(1),\n",
        "                                       np.log(1e-4), 50))\n"
      ]
    },
    {
      "cell_type": "markdown",
      "id": "40b6170b",
      "metadata": {
        "id": "40b6170b"
      },
      "source": [
        "With `LogisticRegression()` the regularization parameter\n",
        "$C$ is specified as the inverse of $\\lambda$. There are several\n",
        "solvers for logistic regression; here we use `liblinear` which\n",
        "works well with the sparse input format."
      ]
    },
    {
      "cell_type": "code",
      "execution_count": null,
      "id": "ae903c6b",
      "metadata": {
        "id": "ae903c6b",
        "lines_to_next_cell": 0
      },
      "outputs": [],
      "source": [
        "logit = LogisticRegression(penalty='l1',\n",
        "                           C=1/lam_max,\n",
        "                           solver='liblinear',\n",
        "                           warm_start=True,\n",
        "                           fit_intercept=True)\n"
      ]
    },
    {
      "cell_type": "markdown",
      "id": "a5e5131f",
      "metadata": {
        "id": "a5e5131f"
      },
      "source": [
        "The path of 50 values takes approximately 40 seconds to run."
      ]
    },
    {
      "cell_type": "code",
      "execution_count": null,
      "id": "60e7c2ef",
      "metadata": {
        "id": "60e7c2ef"
      },
      "outputs": [],
      "source": [
        "coefs = []\n",
        "intercepts = []\n",
        "\n",
        "for l in lam_val:\n",
        "    logit.C = 1/l\n",
        "    logit.fit(X_train, Y_train)\n",
        "    coefs.append(logit.coef_.copy())\n",
        "    intercepts.append(logit.intercept_)\n"
      ]
    },
    {
      "cell_type": "markdown",
      "id": "cc471dac",
      "metadata": {
        "id": "cc471dac"
      },
      "source": [
        "The coefficient and intercepts have an extraneous dimension which can be removed\n",
        "by the `np.squeeze()`  function."
      ]
    },
    {
      "cell_type": "code",
      "execution_count": null,
      "id": "f83501b9",
      "metadata": {
        "id": "f83501b9",
        "lines_to_next_cell": 0
      },
      "outputs": [],
      "source": [
        "coefs = np.squeeze(coefs)\n",
        "intercepts = np.squeeze(intercepts)\n"
      ]
    },
    {
      "cell_type": "markdown",
      "id": "d3c2d1df",
      "metadata": {
        "id": "d3c2d1df"
      },
      "source": [
        "We’ll now make a plot to compare our neural network results with the\n",
        "lasso."
      ]
    },
    {
      "cell_type": "code",
      "execution_count": null,
      "id": "c52d5c7a",
      "metadata": {
        "id": "c52d5c7a",
        "lines_to_next_cell": 0
      },
      "outputs": [],
      "source": [
        "%%capture\n",
        "fig, axes = subplots(1, 2, figsize=(16, 8), sharey=True)\n",
        "for ((X_, Y_),\n",
        "     data_,\n",
        "     color) in zip([(X_train, Y_train),\n",
        "                    (X_valid, Y_valid),\n",
        "                    (X_test, Y_test)],\n",
        "                    ['Training', 'Validation', 'Test'],\n",
        "                    ['black', 'red', 'blue']):\n",
        "    linpred_ = X_ * coefs.T + intercepts[None,:]\n",
        "    label_ = np.array(linpred_ > 0)\n",
        "    accuracy_ = np.array([np.mean(Y_ == l) for l in label_.T])\n",
        "    axes[0].plot(-np.log(lam_val / X_train.shape[0]),\n",
        "                 accuracy_,\n",
        "                 '.--',\n",
        "                 color=color,\n",
        "                 markersize=13,\n",
        "                 linewidth=2,\n",
        "                 label=data_)\n",
        "axes[0].legend()\n",
        "axes[0].set_xlabel(r'$-\\log(\\lambda)$', fontsize=20)\n",
        "axes[0].set_ylabel('Accuracy', fontsize=20)\n"
      ]
    },
    {
      "cell_type": "markdown",
      "id": "c061eec6",
      "metadata": {
        "id": "c061eec6"
      },
      "source": [
        "Notice the use of `%%capture`, which suppresses the displaying of the partially completed figure. This is useful\n",
        "when making a complex figure, since the steps can be spread across two or more cells.\n",
        "We now add a plot of the lasso accuracy, and display the composed figure by simply entering its name at the end of the cell."
      ]
    },
    {
      "cell_type": "code",
      "execution_count": null,
      "id": "4e92f90b",
      "metadata": {
        "id": "4e92f90b",
        "lines_to_next_cell": 0
      },
      "outputs": [],
      "source": [
        "imdb_results = pd.read_csv(imdb_logger.experiment.metrics_file_path)\n",
        "summary_plot(imdb_results,\n",
        "             axes[1],\n",
        "             col='accuracy',\n",
        "             ylabel='Accuracy')\n",
        "axes[1].set_xticks(np.linspace(0, 30, 7).astype(int))\n",
        "axes[1].set_ylabel('Accuracy', fontsize=20)\n",
        "axes[1].set_xlabel('Epoch', fontsize=20)\n",
        "axes[1].set_ylim([0.5, 1]);\n",
        "axes[1].axhline(test_results[0]['test_accuracy'],\n",
        "                color='blue',\n",
        "                linestyle='--',\n",
        "                linewidth=3)\n",
        "fig"
      ]
    },
    {
      "cell_type": "markdown",
      "id": "3aac138f",
      "metadata": {
        "id": "3aac138f"
      },
      "source": [
        "From the graphs we see that the accuracy of the lasso logistic regression peaks at about $0.88$,  as it does for  the neural network.\n",
        "\n",
        "Once again, we end with a cleanup."
      ]
    },
    {
      "cell_type": "code",
      "execution_count": null,
      "id": "3d274eb0",
      "metadata": {
        "id": "3d274eb0",
        "lines_to_next_cell": 2
      },
      "outputs": [],
      "source": [
        "del(imdb_model,\n",
        "    imdb_trainer,\n",
        "    imdb_logger,\n",
        "    imdb_dm,\n",
        "    imdb_train,\n",
        "    imdb_test)"
      ]
    },
    {
      "cell_type": "markdown",
      "id": "91fc3a79",
      "metadata": {
        "id": "91fc3a79"
      },
      "source": [
        "## Recurrent Neural Networks\n",
        "In this lab we fit the models illustrated in\n",
        "Section 10.5."
      ]
    },
    {
      "cell_type": "markdown",
      "id": "7f4fd4c1",
      "metadata": {
        "id": "7f4fd4c1"
      },
      "source": [
        "### Sequential Models for Document Classification\n",
        "Here we  fit a simple  LSTM RNN for sentiment prediction to\n",
        "the `IMDb` movie-review data, as discussed in Section 10.5.1.\n",
        "For an RNN we use the sequence of words in a document, taking their\n",
        "order into account. We loaded the preprocessed\n",
        "data at the beginning of\n",
        "Section 10.9.5.\n",
        "A script that details the preprocessing can be found in the\n",
        "`ISLP` library. Notably, since more than 90% of the documents\n",
        "had fewer than 500 words, we set the document length to 500. For\n",
        "longer documents, we used the last 500 words, and for shorter\n",
        "documents, we padded the front with blanks.\n"
      ]
    },
    {
      "cell_type": "code",
      "execution_count": null,
      "id": "ad5fcbd0",
      "metadata": {
        "id": "ad5fcbd0"
      },
      "outputs": [],
      "source": [
        "imdb_seq_dm = SimpleDataModule(imdb_seq_train,\n",
        "                               imdb_seq_test,\n",
        "                               validation=2000,\n",
        "                               batch_size=300,\n",
        "                               num_workers=min(6, max_num_workers)\n",
        "                               )\n"
      ]
    },
    {
      "cell_type": "markdown",
      "id": "9e1161e9",
      "metadata": {
        "id": "9e1161e9"
      },
      "source": [
        "The first layer of the RNN is an embedding layer of size 32, which will be\n",
        "learned during  training. This layer one-hot encodes  each document\n",
        "as a matrix of dimension $500 \\times 10,003$, and then maps these\n",
        "$10,003$ dimensions down to $32$. {The extra 3 dimensions\n",
        "correspond to commonly occurring non-word entries in the reviews.}\n",
        " Since each word is represented by an\n",
        "integer, this is effectively achieved by the creation of an embedding\n",
        "matrix of size $10,003\\times 32$; each of the 500 integers in the\n",
        "document are then mapped to the appropriate 32 real numbers by\n",
        "indexing the appropriate rows of this matrix."
      ]
    },
    {
      "cell_type": "markdown",
      "id": "4098afce",
      "metadata": {
        "id": "4098afce"
      },
      "source": [
        "The second  layer is an LSTM with 32 units, and the output\n",
        "layer is a single logit for the binary classification task.\n",
        "In the last line of the `forward()` method below,\n",
        "we take the last 32-dimensional output of the LSTM and map it to our response."
      ]
    },
    {
      "cell_type": "code",
      "execution_count": null,
      "id": "329251bb",
      "metadata": {
        "id": "329251bb",
        "lines_to_next_cell": 0
      },
      "outputs": [],
      "source": [
        "class LSTMModel(nn.Module):\n",
        "    def __init__(self, input_size):\n",
        "        super(LSTMModel, self).__init__()\n",
        "        self.embedding = nn.Embedding(input_size, 32)\n",
        "        self.lstm = nn.LSTM(input_size=32,\n",
        "                            hidden_size=32,\n",
        "                            batch_first=True)\n",
        "        self.dense = nn.Linear(32, 1)\n",
        "    def forward(self, x):\n",
        "        val, (h_n, c_n) = self.lstm(self.embedding(x))\n",
        "        return torch.flatten(self.dense(val[:,-1]))"
      ]
    },
    {
      "cell_type": "markdown",
      "id": "dbca8d65",
      "metadata": {
        "id": "dbca8d65"
      },
      "source": [
        "We instantiate and take a look at the summary of the model, using the\n",
        "first 10 documents in the corpus."
      ]
    },
    {
      "cell_type": "code",
      "execution_count": null,
      "id": "ed65e386",
      "metadata": {
        "id": "ed65e386"
      },
      "outputs": [],
      "source": [
        "lstm_model = LSTMModel(X_test.shape[-1])\n",
        "summary(lstm_model,\n",
        "        input_data=imdb_seq_train.tensors[0][:10],\n",
        "        col_names=['input_size',\n",
        "                   'output_size',\n",
        "                   'num_params'])\n"
      ]
    },
    {
      "cell_type": "markdown",
      "id": "63c49a33",
      "metadata": {
        "id": "63c49a33"
      },
      "source": [
        "The 10,003 is suppressed in the summary, but we see it in the\n",
        "parameter count, since $10,003\\times 32=320,096$."
      ]
    },
    {
      "cell_type": "code",
      "execution_count": null,
      "id": "04934941",
      "metadata": {
        "id": "04934941"
      },
      "outputs": [],
      "source": [
        "lstm_module = SimpleModule.binary_classification(lstm_model)\n",
        "lstm_logger = CSVLogger('logs', name='IMDB_LSTM')\n"
      ]
    },
    {
      "cell_type": "code",
      "execution_count": null,
      "id": "25dc7682",
      "metadata": {
        "id": "25dc7682",
        "lines_to_next_cell": 0
      },
      "outputs": [],
      "source": [
        "lstm_trainer = Trainer(deterministic=True,\n",
        "                       max_epochs=20,\n",
        "                       logger=lstm_logger,\n",
        "                       callbacks=[ErrorTracker()])\n",
        "lstm_trainer.fit(lstm_module,\n",
        "                 datamodule=imdb_seq_dm)\n"
      ]
    },
    {
      "cell_type": "markdown",
      "id": "d5f6f6b4",
      "metadata": {
        "id": "d5f6f6b4"
      },
      "source": [
        "The rest is now similar to other networks we have fit. We\n",
        "track the test performance as the network is fit, and see that it attains 85% accuracy."
      ]
    },
    {
      "cell_type": "code",
      "execution_count": null,
      "id": "08004524",
      "metadata": {
        "id": "08004524"
      },
      "outputs": [],
      "source": [
        "lstm_trainer.test(lstm_module, datamodule=imdb_seq_dm)"
      ]
    },
    {
      "cell_type": "markdown",
      "id": "d19c9ff7",
      "metadata": {
        "id": "d19c9ff7"
      },
      "source": [
        "We once again show the learning progress, followed by cleanup."
      ]
    },
    {
      "cell_type": "code",
      "execution_count": null,
      "id": "7be01434",
      "metadata": {
        "id": "7be01434",
        "lines_to_next_cell": 2
      },
      "outputs": [],
      "source": [
        "lstm_results = pd.read_csv(lstm_logger.experiment.metrics_file_path)\n",
        "fig, ax = subplots(1, 1, figsize=(6, 6))\n",
        "summary_plot(lstm_results,\n",
        "             ax,\n",
        "             col='accuracy',\n",
        "             ylabel='Accuracy')\n",
        "ax.set_xticks(np.linspace(0, 20, 5).astype(int))\n",
        "ax.set_ylabel('Accuracy')\n",
        "ax.set_ylim([0.5, 1])\n"
      ]
    },
    {
      "cell_type": "code",
      "execution_count": null,
      "id": "a8acb7e4",
      "metadata": {
        "id": "a8acb7e4",
        "lines_to_next_cell": 2
      },
      "outputs": [],
      "source": [
        "del(lstm_model,\n",
        "    lstm_trainer,\n",
        "    lstm_logger,\n",
        "    imdb_seq_dm,\n",
        "    imdb_seq_train,\n",
        "    imdb_seq_test)\n"
      ]
    },
    {
      "cell_type": "markdown",
      "id": "52540dc2",
      "metadata": {
        "id": "52540dc2"
      },
      "source": [
        "### Time Series Prediction\n",
        "We now show how to fit the models in Section 10.5.2\n",
        "for  time series prediction.\n",
        "We first load and standardize the data."
      ]
    },
    {
      "cell_type": "code",
      "execution_count": null,
      "id": "5df58c36",
      "metadata": {
        "id": "5df58c36"
      },
      "outputs": [],
      "source": [
        "NYSE = load_data('NYSE')\n",
        "cols = ['DJ_return', 'log_volume', 'log_volatility']\n",
        "X = pd.DataFrame(StandardScaler(\n",
        "                     with_mean=True,\n",
        "                     with_std=True).fit_transform(NYSE[cols]),\n",
        "                 columns=NYSE[cols].columns,\n",
        "                 index=NYSE.index)\n"
      ]
    },
    {
      "cell_type": "markdown",
      "id": "f3655cfe",
      "metadata": {
        "id": "f3655cfe"
      },
      "source": [
        "Next we set up the lagged versions of the data, dropping\n",
        "any rows with missing values using the `dropna()`  method."
      ]
    },
    {
      "cell_type": "code",
      "execution_count": null,
      "id": "6688e911",
      "metadata": {
        "id": "6688e911"
      },
      "outputs": [],
      "source": [
        "for lag in range(1, 6):\n",
        "    for col in cols:\n",
        "        newcol = np.zeros(X.shape[0]) * np.nan\n",
        "        newcol[lag:] = X[col].values[:-lag]\n",
        "        X.insert(len(X.columns), \"{0}_{1}\".format(col, lag), newcol)\n",
        "X.insert(len(X.columns), 'train', NYSE['train'])\n",
        "X = X.dropna()\n"
      ]
    },
    {
      "cell_type": "markdown",
      "id": "2146e793",
      "metadata": {
        "id": "2146e793"
      },
      "source": [
        "Finally, we extract the response, training indicator, and drop the current day’s `DJ_return` and\n",
        "`log_volatility` to predict only from previous day’s data."
      ]
    },
    {
      "cell_type": "code",
      "execution_count": null,
      "id": "7ca8735a",
      "metadata": {
        "id": "7ca8735a",
        "lines_to_next_cell": 2
      },
      "outputs": [],
      "source": [
        "Y, train = X['log_volume'], X['train']\n",
        "X = X.drop(columns=['train'] + cols)\n",
        "X.columns\n"
      ]
    },
    {
      "cell_type": "markdown",
      "id": "109fae4f",
      "metadata": {
        "id": "109fae4f"
      },
      "source": [
        "We first fit a simple linear model and compute the $R^2$ on the test data using\n",
        "the `score()`  method."
      ]
    },
    {
      "cell_type": "code",
      "execution_count": null,
      "id": "f921d473",
      "metadata": {
        "id": "f921d473"
      },
      "outputs": [],
      "source": [
        "M = LinearRegression()\n",
        "M.fit(X[train], Y[train])\n",
        "M.score(X[~train], Y[~train])"
      ]
    },
    {
      "cell_type": "markdown",
      "id": "dbfd08c9",
      "metadata": {
        "id": "dbfd08c9"
      },
      "source": [
        "We refit this model, including the factor variable `day_of_week`.\n",
        "For a categorical series in `pandas`, we can form the indicators\n",
        "using the `get_dummies()`  method."
      ]
    },
    {
      "cell_type": "code",
      "execution_count": null,
      "id": "3002d191",
      "metadata": {
        "id": "3002d191",
        "lines_to_next_cell": 0
      },
      "outputs": [],
      "source": [
        "X_day = pd.merge(X,\n",
        "                 pd.get_dummies(NYSE['day_of_week']),\n",
        "                 on='date')"
      ]
    },
    {
      "cell_type": "markdown",
      "id": "8962fc26",
      "metadata": {
        "id": "8962fc26"
      },
      "source": [
        " Note that we do not have\n",
        "to reinstantiate the linear regression model\n",
        "as its `fit()` method accepts a design matrix and a response directly."
      ]
    },
    {
      "cell_type": "code",
      "execution_count": null,
      "id": "dc922a73",
      "metadata": {
        "id": "dc922a73",
        "lines_to_next_cell": 0
      },
      "outputs": [],
      "source": [
        "M.fit(X_day[train], Y[train])\n",
        "M.score(X_day[~train], Y[~train])"
      ]
    },
    {
      "cell_type": "markdown",
      "id": "188ca1af",
      "metadata": {
        "id": "188ca1af"
      },
      "source": [
        "This model achieves an $R^2$ of about 46%."
      ]
    },
    {
      "cell_type": "markdown",
      "id": "120352d5",
      "metadata": {
        "id": "120352d5"
      },
      "source": [
        "To fit the RNN, we must reshape the data, as it will expect 5 lagged\n",
        "versions of each feature as indicated by the  `input_shape` argument\n",
        "to the layer `nn.RNN()`  below. We first\n",
        "ensure the columns of  our data frame are such that a reshaped\n",
        "matrix will have the variables correctly lagged. We use the\n",
        "`reindex()`  method to do this.\n",
        "\n",
        "For an input shape `(5,3)`, each row represents a lagged version of the three variables.\n",
        "The `nn.RNN()` layer also expects the first row of each\n",
        "observation to be earliest in time, so we must reverse the current order.  Hence we loop over\n",
        "`range(5,0,-1)` below, which is\n",
        "an example of using a  `slice()`  to index\n",
        "iterable objects. The general notation is `start:end:step`."
      ]
    },
    {
      "cell_type": "code",
      "execution_count": null,
      "id": "4794d659",
      "metadata": {
        "id": "4794d659",
        "lines_to_next_cell": 0
      },
      "outputs": [],
      "source": [
        "ordered_cols = []\n",
        "for lag in range(5,0,-1):\n",
        "    for col in cols:\n",
        "        ordered_cols.append('{0}_{1}'.format(col, lag))\n",
        "X = X.reindex(columns=ordered_cols)\n",
        "X.columns\n"
      ]
    },
    {
      "cell_type": "markdown",
      "id": "ce137e7d",
      "metadata": {
        "id": "ce137e7d"
      },
      "source": [
        "We now reshape the data."
      ]
    },
    {
      "cell_type": "code",
      "execution_count": null,
      "id": "e4b102d9",
      "metadata": {
        "id": "e4b102d9",
        "lines_to_next_cell": 0
      },
      "outputs": [],
      "source": [
        "X_rnn = X.to_numpy().reshape((-1,5,3))\n",
        "X_rnn.shape"
      ]
    },
    {
      "cell_type": "markdown",
      "id": "91d78412",
      "metadata": {
        "id": "91d78412"
      },
      "source": [
        "By specifying the first size as -1, `numpy.reshape()` deduces its size based on the remaining arguments.\n",
        "\n",
        "Now we are ready to proceed with the RNN, which uses 12 hidden units, and  10%\n",
        "dropout.\n",
        "After passing through the RNN,  we extract the final time point as `val[:,-1]`\n",
        "in `forward()` below. This gets passed through a 10% dropout and then flattened through\n",
        "a linear layer."
      ]
    },
    {
      "cell_type": "code",
      "execution_count": null,
      "id": "c6c636ec",
      "metadata": {
        "id": "c6c636ec"
      },
      "outputs": [],
      "source": [
        "class NYSEModel(nn.Module):\n",
        "    def __init__(self):\n",
        "        super(NYSEModel, self).__init__()\n",
        "        self.rnn = nn.RNN(3,\n",
        "                          12,\n",
        "                          batch_first=True)\n",
        "        self.dense = nn.Linear(12, 1)\n",
        "        self.dropout = nn.Dropout(0.1)\n",
        "    def forward(self, x):\n",
        "        val, h_n = self.rnn(x)\n",
        "        val = self.dense(self.dropout(val[:,-1]))\n",
        "        return torch.flatten(val)\n",
        "nyse_model = NYSEModel()"
      ]
    },
    {
      "cell_type": "markdown",
      "id": "965be876",
      "metadata": {
        "id": "965be876"
      },
      "source": [
        "We  fit the model in a similar fashion to previous networks. We\n",
        "supply the `fit` function with test data as validation data, so that when\n",
        "we monitor its progress and plot the history function we can see the\n",
        "progress on the test data. Of course we should not use this as a basis for\n",
        "early stopping, since then the test performance would be biased.\n",
        "\n",
        "We form the training dataset similar to\n",
        "our `Hitters` example."
      ]
    },
    {
      "cell_type": "code",
      "execution_count": null,
      "id": "38b554ed",
      "metadata": {
        "id": "38b554ed"
      },
      "outputs": [],
      "source": [
        "datasets = []\n",
        "for mask in [train, ~train]:\n",
        "    X_rnn_t = torch.tensor(X_rnn[mask].astype(np.float32))\n",
        "    Y_t = torch.tensor(Y[mask].astype(np.float32))\n",
        "    datasets.append(TensorDataset(X_rnn_t, Y_t))\n",
        "nyse_train, nyse_test = datasets\n"
      ]
    },
    {
      "cell_type": "markdown",
      "id": "52b079dc",
      "metadata": {
        "id": "52b079dc"
      },
      "source": [
        "Following our usual pattern, we inspect the summary."
      ]
    },
    {
      "cell_type": "code",
      "execution_count": null,
      "id": "8355bc29",
      "metadata": {
        "id": "8355bc29",
        "lines_to_next_cell": 0
      },
      "outputs": [],
      "source": [
        "summary(nyse_model,\n",
        "        input_data=X_rnn_t,\n",
        "        col_names=['input_size',\n",
        "                   'output_size',\n",
        "                   'num_params'])\n"
      ]
    },
    {
      "cell_type": "markdown",
      "id": "08faf5d9",
      "metadata": {
        "id": "08faf5d9"
      },
      "source": [
        "We again put the two datasets into a data module, with a\n",
        "batch size of 64."
      ]
    },
    {
      "cell_type": "code",
      "execution_count": null,
      "id": "f203fefe",
      "metadata": {
        "id": "f203fefe",
        "lines_to_next_cell": 0
      },
      "outputs": [],
      "source": [
        "nyse_dm = SimpleDataModule(nyse_train,\n",
        "                           nyse_test,\n",
        "                           num_workers=min(4, max_num_workers),\n",
        "                           validation=nyse_test,\n",
        "                           batch_size=64)"
      ]
    },
    {
      "cell_type": "markdown",
      "id": "a00cb73e",
      "metadata": {
        "id": "a00cb73e"
      },
      "source": [
        "We run some data through our model to be sure the sizes match up correctly."
      ]
    },
    {
      "cell_type": "code",
      "execution_count": null,
      "id": "f230ccef",
      "metadata": {
        "id": "f230ccef"
      },
      "outputs": [],
      "source": [
        "for idx, (x, y) in enumerate(nyse_dm.train_dataloader()):\n",
        "    out = nyse_model(x)\n",
        "    print(y.size(), out.size())\n",
        "    if idx >= 2:\n",
        "        break\n"
      ]
    },
    {
      "cell_type": "markdown",
      "id": "470725a3",
      "metadata": {
        "id": "470725a3"
      },
      "source": [
        "We follow our previous example for setting up a trainer for a\n",
        "regression problem, requesting the $R^2$ metric\n",
        "to be be computed at each epoch."
      ]
    },
    {
      "cell_type": "code",
      "execution_count": null,
      "id": "917a072c",
      "metadata": {
        "id": "917a072c"
      },
      "outputs": [],
      "source": [
        "nyse_optimizer = RMSprop(nyse_model.parameters(),\n",
        "                         lr=0.001)\n",
        "nyse_module = SimpleModule.regression(nyse_model,\n",
        "                                      optimizer=nyse_optimizer,\n",
        "                                      metrics={'r2':R2Score()})\n"
      ]
    },
    {
      "cell_type": "markdown",
      "id": "688a11e1",
      "metadata": {
        "id": "688a11e1"
      },
      "source": [
        "Fitting the model should by now be familiar.\n",
        "The results on the test data are very similar to the linear AR model."
      ]
    },
    {
      "cell_type": "code",
      "execution_count": null,
      "id": "e4c0d50b",
      "metadata": {
        "id": "e4c0d50b",
        "lines_to_next_cell": 2
      },
      "outputs": [],
      "source": [
        "nyse_trainer = Trainer(deterministic=True,\n",
        "                       max_epochs=200,\n",
        "                       callbacks=[ErrorTracker()])\n",
        "nyse_trainer.fit(nyse_module,\n",
        "                 datamodule=nyse_dm)\n",
        "nyse_trainer.test(nyse_module,\n",
        "                  datamodule=nyse_dm)"
      ]
    },
    {
      "cell_type": "markdown",
      "id": "189a6503",
      "metadata": {
        "id": "189a6503"
      },
      "source": [
        "We could also fit a model without the `nn.RNN()` layer by just\n",
        "using a `nn.Flatten()` layer instead. This would be a nonlinear AR model. If in addition we excluded the\n",
        "hidden layer, this would be equivalent to our earlier linear AR model.  \n",
        "\n",
        "Instead we will fit a nonlinear AR model using the feature set `X_day` that includes the `day_of_week` indicators.\n",
        "To do so, we\n",
        "must first create our test and training datasets and a corresponding\n",
        "data module. This may seem a little burdensome, but is part of the\n",
        "general pipeline for `torch`."
      ]
    },
    {
      "cell_type": "code",
      "execution_count": null,
      "id": "d26fc010",
      "metadata": {
        "id": "d26fc010"
      },
      "outputs": [],
      "source": [
        "datasets = []\n",
        "for mask in [train, ~train]:\n",
        "    X_day_t = torch.tensor(\n",
        "                   np.asarray(X_day[mask]).astype(np.float32))\n",
        "    Y_t = torch.tensor(np.asarray(Y[mask]).astype(np.float32))\n",
        "    datasets.append(TensorDataset(X_day_t, Y_t))\n",
        "day_train, day_test = datasets"
      ]
    },
    {
      "cell_type": "markdown",
      "id": "03d4ff5a",
      "metadata": {
        "id": "03d4ff5a"
      },
      "source": [
        "Creating a data module follows a familiar pattern."
      ]
    },
    {
      "cell_type": "code",
      "execution_count": null,
      "id": "459dab5c",
      "metadata": {
        "id": "459dab5c"
      },
      "outputs": [],
      "source": [
        "day_dm = SimpleDataModule(day_train,\n",
        "                          day_test,\n",
        "                          num_workers=min(4, max_num_workers),\n",
        "                          validation=day_test,\n",
        "                          batch_size=64)\n"
      ]
    },
    {
      "cell_type": "markdown",
      "id": "74b773a3",
      "metadata": {
        "id": "74b773a3"
      },
      "source": [
        "We build a `NonLinearARModel()` that takes as input the 20 features and a hidden layer  with 32 units. The remaining steps are familiar."
      ]
    },
    {
      "cell_type": "code",
      "execution_count": null,
      "id": "df628a9a",
      "metadata": {
        "id": "df628a9a"
      },
      "outputs": [],
      "source": [
        "class NonLinearARModel(nn.Module):\n",
        "    def __init__(self):\n",
        "        super(NonLinearARModel, self).__init__()\n",
        "        self._forward = nn.Sequential(nn.Flatten(),\n",
        "                                      nn.Linear(20, 32),\n",
        "                                      nn.ReLU(),\n",
        "                                      nn.Dropout(0.5),\n",
        "                                      nn.Linear(32, 1))\n",
        "    def forward(self, x):\n",
        "        return torch.flatten(self._forward(x))\n"
      ]
    },
    {
      "cell_type": "code",
      "execution_count": null,
      "id": "7a8fae94",
      "metadata": {
        "id": "7a8fae94"
      },
      "outputs": [],
      "source": [
        "nl_model = NonLinearARModel()\n",
        "nl_optimizer = RMSprop(nl_model.parameters(),\n",
        "                           lr=0.001)\n",
        "nl_module = SimpleModule.regression(nl_model,\n",
        "                                        optimizer=nl_optimizer,\n",
        "                                        metrics={'r2':R2Score()})\n"
      ]
    },
    {
      "cell_type": "markdown",
      "id": "4a2caf04",
      "metadata": {
        "id": "4a2caf04"
      },
      "source": [
        "We continue with the usual training steps, fit the model,\n",
        "and evaluate the test error. We see the test $R^2$ is a slight improvement over the linear AR model that also includes `day_of_week`."
      ]
    },
    {
      "cell_type": "code",
      "execution_count": null,
      "id": "4f2bf248",
      "metadata": {
        "id": "4f2bf248",
        "lines_to_next_cell": 0
      },
      "outputs": [],
      "source": [
        "nl_trainer = Trainer(deterministic=True,\n",
        "                         max_epochs=20,\n",
        "                         callbacks=[ErrorTracker()])\n",
        "nl_trainer.fit(nl_module, datamodule=day_dm)\n",
        "nl_trainer.test(nl_module, datamodule=day_dm)"
      ]
    },
    {
      "cell_type": "markdown",
      "id": "281a9e3f",
      "metadata": {
        "id": "281a9e3f"
      },
      "source": [
        "              \n",
        "\n",
        "\n"
      ]
    }
  ],
  "metadata": {
    "colab": {
      "provenance": []
    },
    "jupytext": {
      "cell_metadata_filter": "-all",
      "main_language": "python",
      "notebook_metadata_filter": "-all"
    },
    "kernelspec": {
      "display_name": "Python 3",
      "name": "python3"
    },
    "language_info": {
      "codemirror_mode": {
        "name": "ipython",
        "version": 3
      },
      "file_extension": ".py",
      "mimetype": "text/x-python",
      "name": "python",
      "nbconvert_exporter": "python",
      "pygments_lexer": "ipython3",
      "version": "3.10.12"
    }
  },
  "nbformat": 4,
  "nbformat_minor": 5
}
